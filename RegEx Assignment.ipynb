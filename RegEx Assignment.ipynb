{
 "cells": [
  {
   "cell_type": "markdown",
   "id": "97c32e5a",
   "metadata": {},
   "source": [
    "# Regular Expressions-Assignment"
   ]
  },
  {
   "cell_type": "markdown",
   "id": "c57ab67e",
   "metadata": {},
   "source": [
    "# Question 1- Write a Python program to replace all occurrences of a space, comma, or dot with a colon.\n",
    "Sample Text- 'Python Exercises, PHP exercises.'\n",
    "Expected Output: Python:Exercises::PHP:exercises:\n"
   ]
  },
  {
   "cell_type": "code",
   "execution_count": 73,
   "id": "5aaa2ddb",
   "metadata": {},
   "outputs": [],
   "source": [
    "import regex as re\n",
    "import pandas as pd "
   ]
  },
  {
   "cell_type": "code",
   "execution_count": 74,
   "id": "e6d13233",
   "metadata": {},
   "outputs": [
    {
     "name": "stdout",
     "output_type": "stream",
     "text": [
      "Python:Exercises::PHP:exercises:\n"
     ]
    }
   ],
   "source": [
    "sample_text ='Python Exercises, PHP exercises.'\n",
    "\n",
    "result = re.sub(r\"[\\s|,|.]\",\":\",sample_text)\n",
    "print(result)"
   ]
  },
  {
   "cell_type": "markdown",
   "id": "a99d0004",
   "metadata": {},
   "source": [
    "# Question 2- Write a Python program to find all words starting with 'a' or 'e' in a given string."
   ]
  },
  {
   "cell_type": "code",
   "execution_count": 75,
   "id": "d80d3fff",
   "metadata": {},
   "outputs": [
    {
     "name": "stdout",
     "output_type": "stream",
     "text": [
      "[' extract ', ' approach ', ' and ', ' artificial ', ' and ', ' engineering ', ' analyze ', ' amounts ']\n"
     ]
    }
   ],
   "source": [
    "string=\"Data science is the study of data to extract meaningful insights for business. It is a multidisciplinary approach that combines principles and practices from the fields of mathematics, statistics, artificial intelligence, and computer engineering to analyze large amounts of data.\"\n",
    "\n",
    "pattern = '\\sa\\w+\\s|\\se\\w+\\s'\n",
    "\n",
    "result=re.findall(pattern,string)\n",
    "print(result)"
   ]
  },
  {
   "cell_type": "markdown",
   "id": "0dc589b7",
   "metadata": {},
   "source": [
    "# Question 3- Create a function in python to find all words that are at least 4 characters long in a string. The use of the re.compile() method is mandatory."
   ]
  },
  {
   "cell_type": "code",
   "execution_count": 76,
   "id": "5e05d976",
   "metadata": {},
   "outputs": [
    {
     "name": "stdout",
     "output_type": "stream",
     "text": [
      "['very', 'kind', 'many']\n"
     ]
    }
   ],
   "source": [
    "text =\"APJ Abdul Kalam is a very kind-hearted individual who generously performed many things for India\"\n",
    "pattern_str = r\"\\b\\w{4}\\b\"\n",
    "pattern = re.compile(pattern_str)\n",
    "\n",
    "result  = pattern.findall(text)\n",
    "print(result)"
   ]
  },
  {
   "cell_type": "markdown",
   "id": "bb6ebe3a",
   "metadata": {},
   "source": [
    "# Question 4- Create a function in python to find all three, four, and five character words in a string. The use of the re.compile() method is mandatory."
   ]
  },
  {
   "cell_type": "code",
   "execution_count": 77,
   "id": "5fa3702b",
   "metadata": {},
   "outputs": [
    {
     "name": "stdout",
     "output_type": "stream",
     "text": [
      "['SQL', 'that', 'used', 'for', 'with', 'and', 'data', 'types', 'from']\n"
     ]
    }
   ],
   "source": [
    "string =\"SQL is a powerful programming language that is used for communicating with and extracting various data types from databases\"\n",
    "pattern = r\"\\b\\w{3}\\b|\\b\\w{4}\\b|\\b\\w{5}\\b\"\n",
    "string_pattern = re.compile(pattern)\n",
    "\n",
    "result  = string_pattern.findall(string)\n",
    "print(result)\n"
   ]
  },
  {
   "cell_type": "markdown",
   "id": "f5d33f4b",
   "metadata": {},
   "source": [
    "# Question 5- Create a function in Python to remove the parenthesis in a list of strings. The use of the re.compile() method is mandatory.\n",
    "Sample Text: [\"example (.com)\", \"hr@fliprobo (.com)\", \"github (.com)\", \"Hello (Data Science World)\", \"Data (Scientist)\"]\n"
   ]
  },
  {
   "cell_type": "code",
   "execution_count": 78,
   "id": "f69f7b52",
   "metadata": {},
   "outputs": [
    {
     "name": "stdout",
     "output_type": "stream",
     "text": [
      "[]\n",
      "[]\n",
      "[]\n",
      "['Data S', 'cience W']\n",
      "[]\n"
     ]
    }
   ],
   "source": [
    "sample = [\"example (.com)\", \"hr@fliprobo (.com)\", \"github (.com)\", \"Hello (Data Science World)\", \"Data (Scientist)\"]\n",
    "pattern_rule =re.compile(r\"[A-za-z]+\\s[^()]\")\n",
    "for i in sample:\n",
    "    \n",
    "    result = pattern_rule.findall(i)\n",
    "    print(result)\n"
   ]
  },
  {
   "cell_type": "code",
   "execution_count": null,
   "id": "a372ad8a",
   "metadata": {},
   "outputs": [],
   "source": []
  },
  {
   "cell_type": "markdown",
   "id": "d137006d",
   "metadata": {},
   "source": [
    "# Question 6- Write a python program to remove the parenthesis area from the text stored in the text file using Regular Expression.\n",
    "Sample Text: [\"example (.com)\", \"hr@fliprobo (.com)\", \"github (.com)\", \"Hello (Data Science World)\", \"Data (Scientist)\"]\n"
   ]
  },
  {
   "cell_type": "code",
   "execution_count": 79,
   "id": "f733b6cb",
   "metadata": {},
   "outputs": [
    {
     "name": "stdout",
     "output_type": "stream",
     "text": [
      "example\n",
      "hr@fliprobo\n",
      "github\n",
      "Hello\n",
      "Data\n"
     ]
    }
   ],
   "source": [
    "sample_text = [\"example (.com)\", \"hr@fliprobo (.com)\", \"github (.com)\", \"Hello (Data Science World)\", \"Data (Scientist)\"]\n",
    "for item in sample_text:\n",
    "    result = re.sub(r\" ?\\([^)]+\\)\",\"\",item)\n",
    "    print(result)\n",
    "                  \n"
   ]
  },
  {
   "cell_type": "markdown",
   "id": "da61242d",
   "metadata": {},
   "source": [
    "# Question 7- Write a regular expression in Python to split a string into uppercase letters.\n",
    "Sample text: “ImportanceOfRegularExpressionsInPython”\n"
   ]
  },
  {
   "cell_type": "code",
   "execution_count": 80,
   "id": "4cab262e",
   "metadata": {},
   "outputs": [
    {
     "name": "stdout",
     "output_type": "stream",
     "text": [
      "['Importance', 'Of', 'Regular', 'Expressions', 'In', 'Python']\n"
     ]
    }
   ],
   "source": [
    "text = \"ImportanceOfRegularExpressionsInPython\"\n",
    "x = re.findall(\"[A-Z][^A-Z]*\",text)\n",
    "print(x)"
   ]
  },
  {
   "cell_type": "markdown",
   "id": "4fc8506b",
   "metadata": {},
   "source": [
    "# Question 8- Create a function in python to insert spaces between words starting with numbers.\n",
    "Sample Text: “RegularExpression1IsAn2ImportantTopic3InPython\"\n"
   ]
  },
  {
   "cell_type": "code",
   "execution_count": 81,
   "id": "a56c707c",
   "metadata": {},
   "outputs": [
    {
     "name": "stdout",
     "output_type": "stream",
     "text": [
      "RegularExpression 1IsAn 2ImportantTopic 3InPython\n"
     ]
    }
   ],
   "source": [
    "x =  \"RegularExpression1IsAn2ImportantTopic3InPython\"\n",
    "\n",
    "y = re.sub(r\"([a-zA-Z]+)(\\d+)\",r\"\\1 \\2\",x)\n",
    "print(y)\n"
   ]
  },
  {
   "cell_type": "markdown",
   "id": "df4263a7",
   "metadata": {},
   "source": [
    "# Question 9- Create a function in python to insert spaces between words starting with capital letters or with numbers.\n",
    "Sample Text: “RegularExpression1IsAn2ImportantTopic3InPython\"\n",
    "Expected Output:  RegularExpression 1 IsAn 2 ImportantTopic 3 InPython\n"
   ]
  },
  {
   "cell_type": "code",
   "execution_count": 82,
   "id": "0214b87c",
   "metadata": {},
   "outputs": [
    {
     "name": "stdout",
     "output_type": "stream",
     "text": [
      "RegularExpression 1 IsAn 2 ImportantTopic 3 InPython\n"
     ]
    }
   ],
   "source": [
    "x =  \"RegularExpression1IsAn2ImportantTopic3InPython\"\n",
    "\n",
    "y = re.sub(r\"([a-zA-Z]+)(\\d+)\",r\"\\1 \\2 \",x)\n",
    "print(y)"
   ]
  },
  {
   "cell_type": "markdown",
   "id": "9444ba45",
   "metadata": {},
   "source": [
    "# Question 10- Write a python program to extract email address from the text stored in the text file using Regular Expression.\n",
    "Sample Text- Hello my name is Data Science and my email address is xyz@domain.com and alternate email address is xyz.abc@sdomain.domain.com. \n",
    "Please contact us at hr@fliprobo.com for further information. \n"
   ]
  },
  {
   "cell_type": "code",
   "execution_count": 83,
   "id": "bcb35115",
   "metadata": {},
   "outputs": [
    {
     "name": "stdout",
     "output_type": "stream",
     "text": [
      "['xyz@domain.com', 'xyz.abc@sdomain.domain.com', 'hr@fliprobo.com']\n"
     ]
    }
   ],
   "source": [
    "Sample =  \"Hello my name is Data Science and my email address is xyz@domain.com and alternate email address is xyz.abc@sdomain.domain.com. Please contact us at hr@fliprobo.com for further information.\"\n",
    "pattern = r\"\\b[A-Za-z0-9._]+@[A-Za-z0-9.-]+\\.[A-Za-z]{2,}\\b\"\n",
    "\n",
    "email = re.findall(pattern,Sample)\n",
    "print(email)"
   ]
  },
  {
   "cell_type": "markdown",
   "id": "ce238d07",
   "metadata": {},
   "source": [
    "# Question 11- Write a Python program to match a string that contains only upper and lowercase letters, numbers, and underscores."
   ]
  },
  {
   "cell_type": "code",
   "execution_count": 84,
   "id": "55b854c1",
   "metadata": {},
   "outputs": [
    {
     "name": "stdout",
     "output_type": "stream",
     "text": [
      "<regex.Match object; span=(0, 9), match='XyZab569_'>\n"
     ]
    }
   ],
   "source": [
    "target_string = \"XyZab569_ is your password for login into the account\"\n",
    "result = re.match(r\"[A-Za-z0-9_]+\",target_string)\n",
    "\n",
    "print(result)\n"
   ]
  },
  {
   "cell_type": "markdown",
   "id": "290a6076",
   "metadata": {},
   "source": [
    "# Question 12- Write a Python program where a string will start with a specific number. \n",
    "\n"
   ]
  },
  {
   "cell_type": "code",
   "execution_count": 85,
   "id": "e920eca1",
   "metadata": {},
   "outputs": [
    {
     "name": "stdout",
     "output_type": "stream",
     "text": [
      "[]\n",
      "['4-5623245']\n",
      "[]\n"
     ]
    }
   ],
   "source": [
    "string = [\"8-4546512\",\"4-5623245\",\"9-456789\"]\n",
    "pattern = re.compile(r\"^4-\\d+\")\n",
    "for i in string:\n",
    "    text = pattern.findall(i)\n",
    "    print(text)\n",
    "\n"
   ]
  },
  {
   "cell_type": "code",
   "execution_count": 86,
   "id": "099881fa",
   "metadata": {},
   "outputs": [
    {
     "name": "stdout",
     "output_type": "stream",
     "text": [
      "[]\n",
      "[]\n",
      "['9-456789']\n"
     ]
    }
   ],
   "source": [
    "string = [\"8-4546512\",\"4-5623245\",\"9-456789\"]\n",
    "pattern = re.compile(r\"^9-\\d+\")\n",
    "for i in string:\n",
    "    text = pattern.findall(i)\n",
    "    print(text)"
   ]
  },
  {
   "cell_type": "markdown",
   "id": "24bfd61d",
   "metadata": {},
   "source": [
    "# Question 13- Write a Python program to remove leading zeros from an IP address"
   ]
  },
  {
   "cell_type": "code",
   "execution_count": 87,
   "id": "e82b55ab",
   "metadata": {},
   "outputs": [
    {
     "name": "stdout",
     "output_type": "stream",
     "text": [
      "11.75.9.36\n"
     ]
    }
   ],
   "source": [
    "ip_address = \"11.075.09.36\"\n",
    "text =re.sub(r\"[0]\",\"\",ip_address)\n",
    "print(text)\n",
    "\n"
   ]
  },
  {
   "cell_type": "code",
   "execution_count": 88,
   "id": "6aed6293",
   "metadata": {},
   "outputs": [
    {
     "name": "stdout",
     "output_type": "stream",
     "text": [
      "11.75.9.36\n",
      "11.12.369.25\n",
      "78.52.36.37\n",
      "2.14.21.5\n"
     ]
    }
   ],
   "source": [
    "ip= [\"11.075.09.36\",\"110.120.369.250\",\"78.520.360.307\",\"20.140.021.05\"]\n",
    "for i in ip:\n",
    "    address =re.sub(r\"[0]\",\"\",i)\n",
    "    print(address)"
   ]
  },
  {
   "cell_type": "markdown",
   "id": "243265de",
   "metadata": {},
   "source": [
    "# Question 14- Write a regular expression in python to match a date string in the form of Month name followed by day number and year stored in a text file"
   ]
  },
  {
   "cell_type": "code",
   "execution_count": 89,
   "id": "266de929",
   "metadata": {},
   "outputs": [
    {
     "name": "stdout",
     "output_type": "stream",
     "text": [
      "[('August 15th 1947', 'th')]\n"
     ]
    }
   ],
   "source": [
    "text = \"On August 15th 1947 that India was declared independent from British colonialism, and the reins of control were handed over to the leaders of the Country\"\n",
    "rule = r\"\\b([A-Z][a-z]+ \\d{1,2}(th|nd|st)? \\d{4})\\b\"\n",
    "date = re.findall(rule, text)\n",
    "print(date)\n"
   ]
  },
  {
   "cell_type": "markdown",
   "id": "28d35d8d",
   "metadata": {},
   "source": [
    "# Question 15- Write a Python program to search some literals strings in a string. \n",
    "Sample text : 'The quick brown fox jumps over the lazy dog.'\n"
   ]
  },
  {
   "cell_type": "code",
   "execution_count": 90,
   "id": "be2c55c2",
   "metadata": {},
   "outputs": [
    {
     "name": "stdout",
     "output_type": "stream",
     "text": [
      "Searching for \"fox\"\n",
      "<regex.Match object; span=(16, 19), match='fox'>\n",
      "Searching for \"dog\"\n",
      "<regex.Match object; span=(40, 43), match='dog'>\n",
      "Searching for \"horse\"\n",
      "None\n"
     ]
    }
   ],
   "source": [
    "text  = \"The quick brown fox jumps over the lazy dog.\"\n",
    "pattern = [ 'fox', 'dog', 'horse' ]\n",
    "for items in pattern:\n",
    "    print( 'Searching for \"%s\"' % (items))\n",
    "    match  = re.search(items,text)\n",
    "    print(match)\n",
    "    \n",
    "  #  if re.search(items,text):\n",
    "   #     print(\"Matched !\")\n",
    "    #else:\n",
    "     #   print(\"Not Matched !\")\n"
   ]
  },
  {
   "cell_type": "markdown",
   "id": "cdcf3c10",
   "metadata": {},
   "source": [
    "# Question 16- Write a Python program to search a literals string in a string and also find the location within the original string where the pattern occurs\n",
    "Sample text : 'The quick brown fox jumps over the lazy dog.'\n"
   ]
  },
  {
   "cell_type": "code",
   "execution_count": 91,
   "id": "50befd82",
   "metadata": {},
   "outputs": [
    {
     "name": "stdout",
     "output_type": "stream",
     "text": [
      "<regex.Match object; span=(16, 19), match='fox'>\n"
     ]
    }
   ],
   "source": [
    "text  = \"The quick brown fox jumps over the lazy dog.\"\n",
    "pattern = 'fox'\n",
    "\n",
    "match = re.search(pattern,text)\n",
    "print(match)"
   ]
  },
  {
   "cell_type": "markdown",
   "id": "7d01bac2",
   "metadata": {},
   "source": [
    "# Question 17- Write a Python program to find the substrings within a string.\n",
    "Sample text : 'Python exercises, PHP exercises, C# exercises'\n"
   ]
  },
  {
   "cell_type": "code",
   "execution_count": 92,
   "id": "c8b57b46",
   "metadata": {},
   "outputs": [
    {
     "name": "stdout",
     "output_type": "stream",
     "text": [
      "['exercises', 'exercises', 'exercises']\n"
     ]
    }
   ],
   "source": [
    "sample = \"Python exercises, PHP exercises, C# exercises\"\n",
    "pattern = \"exercises\"\n",
    "\n",
    "match = re.findall(pattern,sample)\n",
    "print(match)"
   ]
  },
  {
   "cell_type": "markdown",
   "id": "98071f0f",
   "metadata": {},
   "source": [
    "# Question 18- Write a Python program to find the occurrence and position of the substrings within a string."
   ]
  },
  {
   "cell_type": "code",
   "execution_count": 93,
   "id": "94427384",
   "metadata": {},
   "outputs": [
    {
     "name": "stdout",
     "output_type": "stream",
     "text": [
      "<regex.Match object; span=(7, 16), match='exercises'>\n",
      "<regex.Match object; span=(4, 13), match='exercises'>\n",
      "<regex.Match object; span=(3, 12), match='exercises'>\n"
     ]
    }
   ],
   "source": [
    "sample = [\"Python exercises\", \"PHP exercises\", \"C# exercises\"]\n",
    "pattern = \"exercises\"\n",
    "for i in sample:\n",
    "    \n",
    "    match = re.search(pattern,i)\n",
    "    print(match)"
   ]
  },
  {
   "cell_type": "markdown",
   "id": "c81ceab6",
   "metadata": {},
   "source": [
    "Its showing the position and occurrence of the substrings within a string"
   ]
  },
  {
   "cell_type": "markdown",
   "id": "650b15be",
   "metadata": {},
   "source": [
    "# Question 19- Write a Python program to convert a date of yyyy-mm-dd format to dd-mm-yyyy format."
   ]
  },
  {
   "cell_type": "code",
   "execution_count": 94,
   "id": "a6fe2041",
   "metadata": {},
   "outputs": [
    {
     "name": "stdout",
     "output_type": "stream",
     "text": [
      "23-12-2022\n"
     ]
    }
   ],
   "source": [
    "date = \"2022-12-23\"\n",
    "pattern = r\"(\\d{4})-(\\d{1,2})-(\\d{1,2})\"\n",
    "\n",
    "format = re.sub(pattern,\"\\\\3-\\\\2-\\\\1\",date)\n",
    "print(format)"
   ]
  },
  {
   "cell_type": "markdown",
   "id": "00fdcb82",
   "metadata": {},
   "source": [
    "# Question 20- Create a function in python to find all decimal numbers with a precision of 1 or 2 in a string. The use of the re.compile() method is mandatory."
   ]
  },
  {
   "cell_type": "code",
   "execution_count": 95,
   "id": "c17c3459",
   "metadata": {},
   "outputs": [
    {
     "name": "stdout",
     "output_type": "stream",
     "text": [
      "['01.12', '145.8', '3.01', '27.25', '0.25']\n"
     ]
    }
   ],
   "source": [
    "sample = \"01.12 0132.123 2.31875 145.8 3.01 27.25 0.25\"\n",
    "rule = r\"\\b(\\d+\\.\\d{1,2})\\b\"\n",
    "string =re.compile(rule)\n",
    "\n",
    "match = string.findall(sample)\n",
    "print(match)"
   ]
  },
  {
   "cell_type": "markdown",
   "id": "0d718313",
   "metadata": {},
   "source": [
    "# Question 21- Write a Python program to separate and print the numbers and their position of a given string."
   ]
  },
  {
   "cell_type": "code",
   "execution_count": 96,
   "id": "fce74e5e",
   "metadata": {},
   "outputs": [
    {
     "name": "stdout",
     "output_type": "stream",
     "text": [
      "<regex.Match object; span=(0, 2), match='13'>\n"
     ]
    }
   ],
   "source": [
    "text = \"13 is my lucky number\"\n",
    "pattern = r\"\\d+\"\n",
    "\n",
    "element = re.search(pattern,text)\n",
    "print(element)"
   ]
  },
  {
   "cell_type": "markdown",
   "id": "47166f46",
   "metadata": {},
   "source": [
    "# Question 22- Write a regular expression in python program to extract maximum/largest numeric value from a string."
   ]
  },
  {
   "cell_type": "code",
   "execution_count": 97,
   "id": "f17893f6",
   "metadata": {},
   "outputs": [
    {
     "name": "stdout",
     "output_type": "stream",
     "text": [
      "Largest Number:  950\n"
     ]
    }
   ],
   "source": [
    "Sample_text = \"My marks in each semester are: 947, 896, 926, 524, 734, 950, 642\"\n",
    "\n",
    "Maxnum = re.findall(\"\\d+\",Sample_text)\n",
    "\n",
    "Maxnum = map(int,Maxnum)\n",
    "\n",
    "print(\"Largest Number: \",max(Maxnum))"
   ]
  },
  {
   "cell_type": "markdown",
   "id": "485cedd3",
   "metadata": {},
   "source": [
    "# Question 23- Create a function in python to insert spaces between words starting with capital letters."
   ]
  },
  {
   "cell_type": "code",
   "execution_count": 98,
   "id": "dc244189",
   "metadata": {},
   "outputs": [
    {
     "name": "stdout",
     "output_type": "stream",
     "text": [
      "Regular Expression Is An Important Topic In Python\n"
     ]
    }
   ],
   "source": [
    "string = \"RegularExpressionIsAnImportantTopicInPython\"\n",
    "pattern  = r\"(\\w)([A-Z])\"\n",
    "\n",
    "match = re.sub(pattern,r\"\\1 \\2\",string) \n",
    "print(match)"
   ]
  },
  {
   "cell_type": "markdown",
   "id": "df08f189",
   "metadata": {},
   "source": [
    "# Question 24- Python regex to find sequences of one upper case letter followed by lower case letters"
   ]
  },
  {
   "cell_type": "code",
   "execution_count": 99,
   "id": "229b193c",
   "metadata": {},
   "outputs": [
    {
     "name": "stdout",
     "output_type": "stream",
     "text": [
      "<regex.Match object; span=(0, 6), match='Python'>\n",
      "None\n",
      "None\n",
      "<regex.Match object; span=(0, 7), match='Letters'>\n"
     ]
    }
   ],
   "source": [
    "list =['Python','PYTHON','aB','Letters']\n",
    "\n",
    "pattern  = r\"[A-Z]+[a-z]+$\"\n",
    "\n",
    "for i in list:\n",
    "    match = re.search(pattern,i)\n",
    "    print(match)"
   ]
  },
  {
   "cell_type": "markdown",
   "id": "19cfaed9",
   "metadata": {},
   "source": [
    "# Question 25- Write a Python program to remove continuous duplicate words from Sentence using Regular Expression."
   ]
  },
  {
   "cell_type": "code",
   "execution_count": 100,
   "id": "02f83529",
   "metadata": {},
   "outputs": [
    {
     "name": "stdout",
     "output_type": "stream",
     "text": [
      "Hello hello world\n"
     ]
    }
   ],
   "source": [
    "sample = \"Hello hello world world\"\n",
    "pattern  = r'\\b(\\w+)(\\s+\\1\\b)+'\n",
    "\n",
    "result = re.sub(pattern,r\"\\1\",sample)\n",
    "print(result)"
   ]
  },
  {
   "cell_type": "markdown",
   "id": "cb259ac2",
   "metadata": {},
   "source": [
    "# Question 26-  Write a python program using RegEx to accept string ending with alphanumeric character."
   ]
  },
  {
   "cell_type": "code",
   "execution_count": 101,
   "id": "742c6788",
   "metadata": {},
   "outputs": [
    {
     "name": "stdout",
     "output_type": "stream",
     "text": [
      "Enter the String: Sumit987888\n",
      "Accept\n"
     ]
    }
   ],
   "source": [
    "String  = input(\"Enter the String: \")\n",
    "pattern = r\"\\w$\"\n",
    "\n",
    "if(re.search(pattern,String)):\n",
    "    print(\"Accept\")\n",
    "else:\n",
    "    print(\"Reject\")"
   ]
  },
  {
   "cell_type": "markdown",
   "id": "025556d0",
   "metadata": {},
   "source": [
    "# Question 27-Write a python program using RegEx to extract the hashtags."
   ]
  },
  {
   "cell_type": "code",
   "execution_count": 102,
   "id": "7b2fac0e",
   "metadata": {},
   "outputs": [
    {
     "name": "stdout",
     "output_type": "stream",
     "text": [
      "['#Doltiwal', '#xyzabc', '#Demonetization']\n"
     ]
    }
   ],
   "source": [
    "text = \"\"\"RT @kapil_kausik: #Doltiwal I mean #xyzabc is \"hurt\" by #Demonetization as the same has rendered USELESS <ed><U+00A0><U+00BD><ed><U+00B1><U+0089> \"acquired funds\" No wo\"\"\"\n",
    "rule = r\"(#[A-Za-z]+)\"\n",
    "\n",
    "match = re.findall(rule,text)\n",
    "print(match)"
   ]
  },
  {
   "cell_type": "markdown",
   "id": "31db3e32",
   "metadata": {},
   "source": [
    "# Question 28- Write a python program using RegEx to remove <U+..> like symbols\n",
    "Check the below sample text, there are strange symbols something of the sort <U+..> all over the place. You need to come up with a general Regex expression that will cover all such symbols.\n"
   ]
  },
  {
   "cell_type": "code",
   "execution_count": 103,
   "id": "4d92b570",
   "metadata": {},
   "outputs": [
    {
     "name": "stdout",
     "output_type": "stream",
     "text": [
      "@Jags123456 Bharat band on 28??<ed><ed>Those who  are protesting #demonetization  are all different party leaders\n"
     ]
    }
   ],
   "source": [
    "sample = \"@Jags123456 Bharat band on 28??<ed><U+00A0><U+00BD><ed><U+00B8><U+0082>Those who  are protesting #demonetization  are all different party leaders\"\n",
    "pattern = r\"<U\\+\\w{4}>\"\n",
    "\n",
    "remove_item = re.sub(pattern,\"\",sample)\n",
    "print(remove_item)"
   ]
  },
  {
   "cell_type": "markdown",
   "id": "c3568517",
   "metadata": {},
   "source": [
    "# Question 29- Write a python program to extract dates from the text stored in the text file."
   ]
  },
  {
   "cell_type": "code",
   "execution_count": 104,
   "id": "f60aa148",
   "metadata": {},
   "outputs": [
    {
     "name": "stdout",
     "output_type": "stream",
     "text": [
      "['12-09-1992', '15-12-1999']\n"
     ]
    }
   ],
   "source": [
    "with open(\"C:/Users/DELL/Downloads/Extract_dates\") as file:\n",
    "    for line in file:\n",
    "        pattern = \"\\d{1,2}-\\d{1,2}-\\d{4}\"\n",
    "        dates = re.findall(pattern,line)\n",
    "        print(dates)\n"
   ]
  },
  {
   "cell_type": "markdown",
   "id": "455af52a",
   "metadata": {},
   "source": [
    "# Question 30- Create a function in python to remove all words from a string of length between 2 and 4."
   ]
  },
  {
   "cell_type": "code",
   "execution_count": 105,
   "id": "13515792",
   "metadata": {},
   "outputs": [
    {
     "name": "stdout",
     "output_type": "stream",
     "text": [
      " following example creates  ArrayList  a capacity   elements. 4 elements   added   ArrayList   ArrayList  trimmed accordingly.\n"
     ]
    }
   ],
   "source": [
    "text =\"The following example creates an ArrayList with a capacity of 50 elements. 4 elements are then added to the ArrayList and the ArrayList is trimmed accordingly.\"\n",
    "pattern  = re.compile(r\"\\w*\\b\\w{2,4}\\b\")\n",
    "\n",
    "result = pattern.sub(\"\",text)\n",
    "print(result)"
   ]
  },
  {
   "cell_type": "code",
   "execution_count": null,
   "id": "e68c0ce0",
   "metadata": {},
   "outputs": [],
   "source": []
  }
 ],
 "metadata": {
  "kernelspec": {
   "display_name": "Python 3 (ipykernel)",
   "language": "python",
   "name": "python3"
  },
  "language_info": {
   "codemirror_mode": {
    "name": "ipython",
    "version": 3
   },
   "file_extension": ".py",
   "mimetype": "text/x-python",
   "name": "python",
   "nbconvert_exporter": "python",
   "pygments_lexer": "ipython3",
   "version": "3.10.9"
  }
 },
 "nbformat": 4,
 "nbformat_minor": 5
}
