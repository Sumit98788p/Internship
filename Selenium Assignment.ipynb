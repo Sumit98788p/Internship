{
 "cells": [
  {
   "cell_type": "markdown",
   "id": "00d76315",
   "metadata": {},
   "source": [
    "# Q1: Write a python program to scrape data for “Data Analyst” Job position in “Bangalore” location. You have to scrape the job-title, job-location, company_name, experience_required. You have to scrape first 10 jobs data"
   ]
  },
  {
   "cell_type": "code",
   "execution_count": 1,
   "id": "c8aca124",
   "metadata": {},
   "outputs": [
    {
     "name": "stdout",
     "output_type": "stream",
     "text": [
      "Requirement already satisfied: selenium in c:\\users\\dell\\anaconda3\\lib\\site-packages (4.15.2)\n",
      "Requirement already satisfied: certifi>=2021.10.8 in c:\\users\\dell\\anaconda3\\lib\\site-packages (from selenium) (2022.12.7)\n",
      "Requirement already satisfied: urllib3[socks]<3,>=1.26 in c:\\users\\dell\\anaconda3\\lib\\site-packages (from selenium) (1.26.14)\n",
      "Requirement already satisfied: trio-websocket~=0.9 in c:\\users\\dell\\anaconda3\\lib\\site-packages (from selenium) (0.11.1)\n",
      "Requirement already satisfied: trio~=0.17 in c:\\users\\dell\\anaconda3\\lib\\site-packages (from selenium) (0.23.1)\n",
      "Requirement already satisfied: sortedcontainers in c:\\users\\dell\\anaconda3\\lib\\site-packages (from trio~=0.17->selenium) (2.4.0)\n",
      "Requirement already satisfied: exceptiongroup>=1.0.0rc9 in c:\\users\\dell\\anaconda3\\lib\\site-packages (from trio~=0.17->selenium) (1.1.3)\n",
      "Requirement already satisfied: attrs>=20.1.0 in c:\\users\\dell\\anaconda3\\lib\\site-packages (from trio~=0.17->selenium) (22.1.0)\n",
      "Requirement already satisfied: outcome in c:\\users\\dell\\anaconda3\\lib\\site-packages (from trio~=0.17->selenium) (1.3.0.post0)\n",
      "Requirement already satisfied: cffi>=1.14 in c:\\users\\dell\\anaconda3\\lib\\site-packages (from trio~=0.17->selenium) (1.15.1)\n",
      "Requirement already satisfied: sniffio>=1.3.0 in c:\\users\\dell\\anaconda3\\lib\\site-packages (from trio~=0.17->selenium) (1.3.0)\n",
      "Requirement already satisfied: idna in c:\\users\\dell\\anaconda3\\lib\\site-packages (from trio~=0.17->selenium) (3.4)\n",
      "Requirement already satisfied: wsproto>=0.14 in c:\\users\\dell\\anaconda3\\lib\\site-packages (from trio-websocket~=0.9->selenium) (1.2.0)\n",
      "Requirement already satisfied: PySocks!=1.5.7,<2.0,>=1.5.6 in c:\\users\\dell\\anaconda3\\lib\\site-packages (from urllib3[socks]<3,>=1.26->selenium) (1.7.1)\n",
      "Requirement already satisfied: pycparser in c:\\users\\dell\\anaconda3\\lib\\site-packages (from cffi>=1.14->trio~=0.17->selenium) (2.21)\n",
      "Requirement already satisfied: h11<1,>=0.9.0 in c:\\users\\dell\\anaconda3\\lib\\site-packages (from wsproto>=0.14->trio-websocket~=0.9->selenium) (0.14.0)\n"
     ]
    }
   ],
   "source": [
    "!pip install selenium"
   ]
  },
  {
   "cell_type": "code",
   "execution_count": 2,
   "id": "c9601e04",
   "metadata": {},
   "outputs": [],
   "source": [
    "import selenium\n",
    "from selenium import webdriver\n",
    "import pandas as pd\n",
    "from selenium.webdriver.common.by import By\n",
    "import warnings\n",
    "warnings.filterwarnings(\"ignore\")\n",
    "import time"
   ]
  },
  {
   "cell_type": "code",
   "execution_count": 3,
   "id": "0557e7ae",
   "metadata": {},
   "outputs": [],
   "source": [
    "driver = webdriver.Chrome()"
   ]
  },
  {
   "cell_type": "code",
   "execution_count": 4,
   "id": "433d2f10",
   "metadata": {},
   "outputs": [],
   "source": [
    "driver.get(\"https://www.shine.com/\")"
   ]
  },
  {
   "cell_type": "code",
   "execution_count": 6,
   "id": "1eab8406",
   "metadata": {},
   "outputs": [],
   "source": [
    "time.sleep(10)\n",
    "allow_btn = driver.find_element(By.XPATH,\"/html/body/div/div[2]/div/div/div/div/button\")\n",
    "allow_btn.click()"
   ]
  },
  {
   "cell_type": "code",
   "execution_count": 8,
   "id": "5725fa2d",
   "metadata": {},
   "outputs": [],
   "source": [
    "click = driver.find_element(By.CLASS_NAME,'searchBarInput')\n",
    "click.click()"
   ]
  },
  {
   "cell_type": "code",
   "execution_count": 9,
   "id": "7fc297da",
   "metadata": {},
   "outputs": [],
   "source": [
    "designation = driver.find_element(By.CLASS_NAME,\"form-control\")\n",
    "designation.send_keys(\"Data Analyst\")"
   ]
  },
  {
   "cell_type": "code",
   "execution_count": 10,
   "id": "d2ae96c8",
   "metadata": {},
   "outputs": [],
   "source": [
    "location =driver.find_element(By.XPATH,'/html/body/div/div[4]/div/div[2]/div[2]/div/form/div/div[1]/ul/li[2]/div/input')\n",
    "location.send_keys(\"Bangalore\")\n"
   ]
  },
  {
   "cell_type": "code",
   "execution_count": 12,
   "id": "73bec784",
   "metadata": {},
   "outputs": [],
   "source": [
    "search = driver.find_element(By.CLASS_NAME,\"searchForm_btnWrap_advance__VYBHN\")\n",
    "search.click()\n",
    "\n"
   ]
  },
  {
   "cell_type": "code",
   "execution_count": 14,
   "id": "7188b446",
   "metadata": {},
   "outputs": [],
   "source": [
    "time.sleep(10)\n",
    "allow_btn = driver.find_element(By.XPATH,\"/html/body/div[1]/div[2]/div/div/div/div/button\")\n",
    "allow_btn.click()"
   ]
  },
  {
   "cell_type": "code",
   "execution_count": 15,
   "id": "5eb901b5",
   "metadata": {},
   "outputs": [],
   "source": [
    "close = driver.find_element(By.XPATH,\"/html/body/div[1]/div[1]/div[1]/div/div/button\")\n",
    "close.click()"
   ]
  },
  {
   "cell_type": "code",
   "execution_count": 16,
   "id": "1530084f",
   "metadata": {},
   "outputs": [],
   "source": [
    "job_title = []\n",
    "title_tags =driver.find_elements(By.XPATH,'//h2[@itemprop=\"name\"]//a')\n",
    "for i in title_tags:\n",
    "    title = i.text\n",
    "    job_title.append(title)\n"
   ]
  },
  {
   "cell_type": "code",
   "execution_count": 17,
   "id": "135ac528",
   "metadata": {},
   "outputs": [
    {
     "name": "stdout",
     "output_type": "stream",
     "text": [
      "20\n"
     ]
    }
   ],
   "source": [
    "print(len(job_title))"
   ]
  },
  {
   "cell_type": "code",
   "execution_count": 18,
   "id": "bc9110e7",
   "metadata": {},
   "outputs": [],
   "source": [
    "Loc = []\n",
    "\n",
    "loc_tags = driver.find_elements(By.XPATH,'//div[@class=\" jobCard_jobCard_lists_item__YxRkV jobCard_locationIcon__zrWt2\"]')\n",
    "for i in loc_tags:\n",
    "    location =i.text\n",
    "    Loc.append(location)"
   ]
  },
  {
   "cell_type": "code",
   "execution_count": 19,
   "id": "9d920ea9",
   "metadata": {},
   "outputs": [
    {
     "name": "stdout",
     "output_type": "stream",
     "text": [
      "20\n"
     ]
    }
   ],
   "source": [
    "print(len(Loc))"
   ]
  },
  {
   "cell_type": "code",
   "execution_count": 20,
   "id": "8a638ff4",
   "metadata": {},
   "outputs": [],
   "source": [
    "company_name = []\n",
    "com_tags = driver.find_elements(By.XPATH,'//div[@class=\"jobCard_jobCard_cName__mYnow\"]//span')\n",
    "for i in com_tags:\n",
    "    company_name.append(i.text)"
   ]
  },
  {
   "cell_type": "code",
   "execution_count": 21,
   "id": "088d7397",
   "metadata": {},
   "outputs": [
    {
     "name": "stdout",
     "output_type": "stream",
     "text": [
      "20\n"
     ]
    }
   ],
   "source": [
    "print(len(company_name))"
   ]
  },
  {
   "cell_type": "code",
   "execution_count": 22,
   "id": "994cc617",
   "metadata": {},
   "outputs": [],
   "source": [
    "exp_req =[]\n",
    "exp_tags = driver.find_elements(By.XPATH,'//div[@class=\" jobCard_jobCard_lists_item__YxRkV jobCard_jobIcon__3FB1t\"]')\n",
    "for i in exp_tags:\n",
    "    exp_req.append(i.text)"
   ]
  },
  {
   "cell_type": "code",
   "execution_count": 23,
   "id": "4aba8c41",
   "metadata": {},
   "outputs": [
    {
     "name": "stdout",
     "output_type": "stream",
     "text": [
      "20\n"
     ]
    }
   ],
   "source": [
    "print(len(exp_req))"
   ]
  },
  {
   "cell_type": "code",
   "execution_count": 24,
   "id": "3631a8c9",
   "metadata": {},
   "outputs": [
    {
     "data": {
      "text/html": [
       "<div>\n",
       "<style scoped>\n",
       "    .dataframe tbody tr th:only-of-type {\n",
       "        vertical-align: middle;\n",
       "    }\n",
       "\n",
       "    .dataframe tbody tr th {\n",
       "        vertical-align: top;\n",
       "    }\n",
       "\n",
       "    .dataframe thead th {\n",
       "        text-align: right;\n",
       "    }\n",
       "</style>\n",
       "<table border=\"1\" class=\"dataframe\">\n",
       "  <thead>\n",
       "    <tr style=\"text-align: right;\">\n",
       "      <th></th>\n",
       "      <th>Title</th>\n",
       "      <th>Location</th>\n",
       "      <th>Company Name</th>\n",
       "      <th>Experience</th>\n",
       "    </tr>\n",
       "  </thead>\n",
       "  <tbody>\n",
       "    <tr>\n",
       "      <th>0</th>\n",
       "      <td>Data Analyst Vacancy</td>\n",
       "      <td>Bangalore\\n+14</td>\n",
       "      <td>divya interprises</td>\n",
       "      <td>0 to 4 Yrs</td>\n",
       "    </tr>\n",
       "    <tr>\n",
       "      <th>1</th>\n",
       "      <td>Data Analyst Vacancy</td>\n",
       "      <td>Bangalore\\n+14</td>\n",
       "      <td>divya interprises</td>\n",
       "      <td>0 to 4 Yrs</td>\n",
       "    </tr>\n",
       "    <tr>\n",
       "      <th>2</th>\n",
       "      <td>Clinical Data Analyst</td>\n",
       "      <td>Bangalore\\n+4</td>\n",
       "      <td>quiscon biotech</td>\n",
       "      <td>0 to 2 Yrs</td>\n",
       "    </tr>\n",
       "    <tr>\n",
       "      <th>3</th>\n",
       "      <td>Data Analyst Urgent Recruitment</td>\n",
       "      <td>Bangalore\\n+14</td>\n",
       "      <td>divya interprises</td>\n",
       "      <td>0 to 4 Yrs</td>\n",
       "    </tr>\n",
       "    <tr>\n",
       "      <th>4</th>\n",
       "      <td>Data Analyst Urgent Recruitment</td>\n",
       "      <td>Bangalore\\n+14</td>\n",
       "      <td>divya interprises</td>\n",
       "      <td>0 to 4 Yrs</td>\n",
       "    </tr>\n",
       "    <tr>\n",
       "      <th>5</th>\n",
       "      <td>Data Analyst Urgent Recruitment</td>\n",
       "      <td>Bangalore\\n+14</td>\n",
       "      <td>divya interprises</td>\n",
       "      <td>0 to 4 Yrs</td>\n",
       "    </tr>\n",
       "    <tr>\n",
       "      <th>6</th>\n",
       "      <td>Data Analyst 1</td>\n",
       "      <td>Bangalore</td>\n",
       "      <td>merck ltd</td>\n",
       "      <td>1 to 3 Yrs</td>\n",
       "    </tr>\n",
       "    <tr>\n",
       "      <th>7</th>\n",
       "      <td>Clinical Data Analyst</td>\n",
       "      <td>Bangalore\\n+6</td>\n",
       "      <td>techno endura</td>\n",
       "      <td>0 to 1 Yr</td>\n",
       "    </tr>\n",
       "    <tr>\n",
       "      <th>8</th>\n",
       "      <td>Data Analytics - Analyst</td>\n",
       "      <td>Bangalore</td>\n",
       "      <td>jpmorgan</td>\n",
       "      <td>0 to 4 Yrs</td>\n",
       "    </tr>\n",
       "    <tr>\n",
       "      <th>9</th>\n",
       "      <td>Hiring For Data Analyst</td>\n",
       "      <td>Bangalore\\n+14</td>\n",
       "      <td>divya interprises</td>\n",
       "      <td>0 to 4 Yrs</td>\n",
       "    </tr>\n",
       "  </tbody>\n",
       "</table>\n",
       "</div>"
      ],
      "text/plain": [
       "                             Title        Location       Company Name  \\\n",
       "0             Data Analyst Vacancy  Bangalore\\n+14  divya interprises   \n",
       "1             Data Analyst Vacancy  Bangalore\\n+14  divya interprises   \n",
       "2            Clinical Data Analyst   Bangalore\\n+4    quiscon biotech   \n",
       "3  Data Analyst Urgent Recruitment  Bangalore\\n+14  divya interprises   \n",
       "4  Data Analyst Urgent Recruitment  Bangalore\\n+14  divya interprises   \n",
       "5  Data Analyst Urgent Recruitment  Bangalore\\n+14  divya interprises   \n",
       "6                   Data Analyst 1       Bangalore          merck ltd   \n",
       "7            Clinical Data Analyst   Bangalore\\n+6      techno endura   \n",
       "8         Data Analytics - Analyst       Bangalore           jpmorgan   \n",
       "9          Hiring For Data Analyst  Bangalore\\n+14  divya interprises   \n",
       "\n",
       "   Experience  \n",
       "0  0 to 4 Yrs  \n",
       "1  0 to 4 Yrs  \n",
       "2  0 to 2 Yrs  \n",
       "3  0 to 4 Yrs  \n",
       "4  0 to 4 Yrs  \n",
       "5  0 to 4 Yrs  \n",
       "6  1 to 3 Yrs  \n",
       "7   0 to 1 Yr  \n",
       "8  0 to 4 Yrs  \n",
       "9  0 to 4 Yrs  "
      ]
     },
     "execution_count": 24,
     "metadata": {},
     "output_type": "execute_result"
    }
   ],
   "source": [
    "df = pd.DataFrame({'Title':job_title,'Location':Loc,'Company Name':company_name,'Experience':exp_req})\n",
    "df.head(10)"
   ]
  },
  {
   "cell_type": "markdown",
   "id": "fdeb8a53",
   "metadata": {},
   "source": [
    "# Q2:Write a python program to scrape data for “Data Scientist” Job position in“Bangalore” location. Youhave to scrape the job-title, job-location, company_name. You have to scrape first 10 jobs data.This task will be done in following steps:"
   ]
  },
  {
   "cell_type": "code",
   "execution_count": 25,
   "id": "5d88eb7a",
   "metadata": {},
   "outputs": [],
   "source": [
    "driver = webdriver.Chrome()"
   ]
  },
  {
   "cell_type": "code",
   "execution_count": 26,
   "id": "a6094688",
   "metadata": {},
   "outputs": [],
   "source": [
    "driver.get(\"https://www.shine.com/\")"
   ]
  },
  {
   "cell_type": "code",
   "execution_count": 28,
   "id": "db48f8d6",
   "metadata": {},
   "outputs": [],
   "source": [
    "time.sleep(15)\n",
    "allow_btn = driver.find_element(By.XPATH,\"/html/body/div/div[2]/div/div/div/div/button\")\n",
    "allow_btn.click()"
   ]
  },
  {
   "cell_type": "code",
   "execution_count": 30,
   "id": "19e6c4c4",
   "metadata": {},
   "outputs": [],
   "source": [
    "click = driver.find_element(By.CLASS_NAME,'searchBarInput')\n",
    "click.click()"
   ]
  },
  {
   "cell_type": "code",
   "execution_count": 31,
   "id": "19238628",
   "metadata": {},
   "outputs": [],
   "source": [
    "designation = driver.find_element(By.CLASS_NAME,\"form-control\")\n",
    "designation.send_keys(\"Data Scientist\")"
   ]
  },
  {
   "cell_type": "code",
   "execution_count": 32,
   "id": "a19986b9",
   "metadata": {},
   "outputs": [],
   "source": [
    "location =driver.find_element(By.XPATH,'/html/body/div/div[4]/div/div[2]/div[2]/div/form/div/div[1]/ul/li[2]/div/input')\n",
    "location.send_keys(\"Bangalore\")\n",
    "\n"
   ]
  },
  {
   "cell_type": "code",
   "execution_count": 34,
   "id": "e8d2df77",
   "metadata": {},
   "outputs": [],
   "source": [
    "search = driver.find_element(By.CLASS_NAME,\"searchForm_btnWrap_advance__VYBHN\")\n",
    "search.click()\n",
    "\n"
   ]
  },
  {
   "cell_type": "code",
   "execution_count": 35,
   "id": "cc57264f",
   "metadata": {},
   "outputs": [],
   "source": [
    "time.sleep(15)\n",
    "allow_btn = driver.find_element(By.XPATH,\"/html/body/div[1]/div[2]/div/div/div/div/button\")\n",
    "allow_btn.click()\n"
   ]
  },
  {
   "cell_type": "code",
   "execution_count": 36,
   "id": "e0f4bd37",
   "metadata": {},
   "outputs": [],
   "source": [
    "close = driver.find_element(By.XPATH,\"/html/body/div[1]/div[1]/div[1]/div/div/button\")\n",
    "close.click()"
   ]
  },
  {
   "cell_type": "code",
   "execution_count": 37,
   "id": "da0cf988",
   "metadata": {},
   "outputs": [],
   "source": [
    "job_title = []\n",
    "title_tags =driver.find_elements(By.XPATH,'//h2[@itemprop=\"name\"]//a')\n",
    "for i in title_tags:\n",
    "    title = i.text\n",
    "    job_title.append(title)\n"
   ]
  },
  {
   "cell_type": "code",
   "execution_count": 38,
   "id": "0e1c138e",
   "metadata": {},
   "outputs": [],
   "source": [
    "Loc = []\n",
    "\n",
    "loc_tags = driver.find_elements(By.XPATH,'//div[@class=\" jobCard_jobCard_lists_item__YxRkV jobCard_locationIcon__zrWt2\"]')\n",
    "for i in loc_tags:\n",
    "    location =i.text\n",
    "    Loc.append(location)"
   ]
  },
  {
   "cell_type": "code",
   "execution_count": 39,
   "id": "5c7034ed",
   "metadata": {},
   "outputs": [],
   "source": [
    "company_name = []\n",
    "com_tags = driver.find_elements(By.XPATH,'//div[@class=\"jobCard_jobCard_cName__mYnow\"]//span')\n",
    "for i in com_tags:\n",
    "    company_name.append(i.text)"
   ]
  },
  {
   "cell_type": "code",
   "execution_count": 40,
   "id": "25a3b482",
   "metadata": {},
   "outputs": [],
   "source": [
    "exp_req =[]\n",
    "exp_tags = driver.find_elements(By.XPATH,'//div[@class=\" jobCard_jobCard_lists_item__YxRkV jobCard_jobIcon__3FB1t\"]')\n",
    "for i in exp_tags:\n",
    "    exp_req.append(i.text)"
   ]
  },
  {
   "cell_type": "code",
   "execution_count": 41,
   "id": "68d36110",
   "metadata": {},
   "outputs": [
    {
     "data": {
      "text/html": [
       "<div>\n",
       "<style scoped>\n",
       "    .dataframe tbody tr th:only-of-type {\n",
       "        vertical-align: middle;\n",
       "    }\n",
       "\n",
       "    .dataframe tbody tr th {\n",
       "        vertical-align: top;\n",
       "    }\n",
       "\n",
       "    .dataframe thead th {\n",
       "        text-align: right;\n",
       "    }\n",
       "</style>\n",
       "<table border=\"1\" class=\"dataframe\">\n",
       "  <thead>\n",
       "    <tr style=\"text-align: right;\">\n",
       "      <th></th>\n",
       "      <th>Title</th>\n",
       "      <th>Location</th>\n",
       "      <th>Company Name</th>\n",
       "      <th>Experience</th>\n",
       "    </tr>\n",
       "  </thead>\n",
       "  <tbody>\n",
       "    <tr>\n",
       "      <th>0</th>\n",
       "      <td>Data Scientist Vacancy</td>\n",
       "      <td>Bangalore\\n+14</td>\n",
       "      <td>divya interprises</td>\n",
       "      <td>0 to 4 Yrs</td>\n",
       "    </tr>\n",
       "    <tr>\n",
       "      <th>1</th>\n",
       "      <td>Data Scientist Urgent Recruitment</td>\n",
       "      <td>Bangalore\\n+14</td>\n",
       "      <td>divya interprises</td>\n",
       "      <td>0 to 4 Yrs</td>\n",
       "    </tr>\n",
       "    <tr>\n",
       "      <th>2</th>\n",
       "      <td>Data Scientist- Bangalore</td>\n",
       "      <td>Bangalore</td>\n",
       "      <td>the fashion cosmo</td>\n",
       "      <td>0 to 3 Yrs</td>\n",
       "    </tr>\n",
       "    <tr>\n",
       "      <th>3</th>\n",
       "      <td>Data Scientist AI ML CV</td>\n",
       "      <td>Bangalore</td>\n",
       "      <td>bosch group</td>\n",
       "      <td>3 to 5 Yrs</td>\n",
       "    </tr>\n",
       "    <tr>\n",
       "      <th>4</th>\n",
       "      <td>Data Scientist-Bangalore</td>\n",
       "      <td>Bangalore</td>\n",
       "      <td>shiva hr services</td>\n",
       "      <td>0 to 3 Yrs</td>\n",
       "    </tr>\n",
       "    <tr>\n",
       "      <th>5</th>\n",
       "      <td>Data Scientist AI ML NLP</td>\n",
       "      <td>Bangalore</td>\n",
       "      <td>bosch group</td>\n",
       "      <td>3 to 5 Yrs</td>\n",
       "    </tr>\n",
       "    <tr>\n",
       "      <th>6</th>\n",
       "      <td>Phd Data Scientist</td>\n",
       "      <td>Bangalore</td>\n",
       "      <td>bosch group</td>\n",
       "      <td>2 to 5 Yrs</td>\n",
       "    </tr>\n",
       "    <tr>\n",
       "      <th>7</th>\n",
       "      <td>Hiring For Data Scientist</td>\n",
       "      <td>Bangalore\\n+14</td>\n",
       "      <td>divya interprises</td>\n",
       "      <td>0 to 4 Yrs</td>\n",
       "    </tr>\n",
       "    <tr>\n",
       "      <th>8</th>\n",
       "      <td>Data Scientist</td>\n",
       "      <td>Bangalore</td>\n",
       "      <td>racanaa energy solution private lim...</td>\n",
       "      <td>3 to 6 Yrs</td>\n",
       "    </tr>\n",
       "    <tr>\n",
       "      <th>9</th>\n",
       "      <td>Staff Data Scientist &amp; Team Lead</td>\n",
       "      <td>Bangalore</td>\n",
       "      <td>true caller</td>\n",
       "      <td>8 to 12 Yrs</td>\n",
       "    </tr>\n",
       "  </tbody>\n",
       "</table>\n",
       "</div>"
      ],
      "text/plain": [
       "                               Title        Location  \\\n",
       "0             Data Scientist Vacancy  Bangalore\\n+14   \n",
       "1  Data Scientist Urgent Recruitment  Bangalore\\n+14   \n",
       "2          Data Scientist- Bangalore       Bangalore   \n",
       "3            Data Scientist AI ML CV       Bangalore   \n",
       "4           Data Scientist-Bangalore       Bangalore   \n",
       "5           Data Scientist AI ML NLP       Bangalore   \n",
       "6                 Phd Data Scientist       Bangalore   \n",
       "7          Hiring For Data Scientist  Bangalore\\n+14   \n",
       "8                     Data Scientist       Bangalore   \n",
       "9   Staff Data Scientist & Team Lead       Bangalore   \n",
       "\n",
       "                             Company Name   Experience  \n",
       "0                       divya interprises   0 to 4 Yrs  \n",
       "1                       divya interprises   0 to 4 Yrs  \n",
       "2                       the fashion cosmo   0 to 3 Yrs  \n",
       "3                             bosch group   3 to 5 Yrs  \n",
       "4                       shiva hr services   0 to 3 Yrs  \n",
       "5                             bosch group   3 to 5 Yrs  \n",
       "6                             bosch group   2 to 5 Yrs  \n",
       "7                       divya interprises   0 to 4 Yrs  \n",
       "8  racanaa energy solution private lim...   3 to 6 Yrs  \n",
       "9                             true caller  8 to 12 Yrs  "
      ]
     },
     "execution_count": 41,
     "metadata": {},
     "output_type": "execute_result"
    }
   ],
   "source": [
    "df = pd.DataFrame({'Title':job_title,'Location':Loc,'Company Name':company_name,'Experience':exp_req})\n",
    "df.head(10)"
   ]
  },
  {
   "cell_type": "markdown",
   "id": "d4380b36",
   "metadata": {},
   "source": [
    "# Q3: In this question you have to scrape data using the filters available on the webpage You have to use the location and salary filter. You have to scrape data for “Data Scientist” designation for first 10 job results. You have to scrape the job-title, job-location, company name, experience required. The location filter to be used is “Delhi/NCR”. The salary filter to be used is “3-6” lakhs"
   ]
  },
  {
   "cell_type": "code",
   "execution_count": 42,
   "id": "f91b1d07",
   "metadata": {},
   "outputs": [],
   "source": [
    "driver = webdriver.Chrome()"
   ]
  },
  {
   "cell_type": "code",
   "execution_count": 43,
   "id": "8a2d9f75",
   "metadata": {},
   "outputs": [],
   "source": [
    "driver.get(\"https://www.shine.com/\")"
   ]
  },
  {
   "cell_type": "code",
   "execution_count": 44,
   "id": "52662131",
   "metadata": {},
   "outputs": [],
   "source": [
    "time.sleep(15)\n",
    "allow_btn = driver.find_element(By.XPATH,\"/html/body/div/div[2]/div/div/div/div/button\")\n",
    "allow_btn.click()"
   ]
  },
  {
   "cell_type": "code",
   "execution_count": 45,
   "id": "9e9b2f0f",
   "metadata": {},
   "outputs": [],
   "source": [
    "click = driver.find_element(By.CLASS_NAME,'searchBarInput')\n",
    "click.click()"
   ]
  },
  {
   "cell_type": "code",
   "execution_count": 46,
   "id": "998cf75a",
   "metadata": {},
   "outputs": [],
   "source": [
    "designation = driver.find_element(By.CLASS_NAME,\"form-control\")\n",
    "designation.send_keys(\"Data Scientist\")\n",
    "time.sleep(3)\n",
    "designation.click()"
   ]
  },
  {
   "cell_type": "code",
   "execution_count": 48,
   "id": "fe030cd0",
   "metadata": {},
   "outputs": [],
   "source": [
    "search = driver.find_element(By.CLASS_NAME,\"searchForm_btnWrap_advance__VYBHN\")\n",
    "search.click()\n",
    "\n"
   ]
  },
  {
   "cell_type": "code",
   "execution_count": 50,
   "id": "8bdcfbdc",
   "metadata": {},
   "outputs": [],
   "source": [
    "time.sleep(10)\n",
    "allow_btn = driver.find_element(By.XPATH,\"/html/body/div[1]/div[2]/div/div/div/div/button\")\n",
    "allow_btn.click()\n"
   ]
  },
  {
   "cell_type": "code",
   "execution_count": 51,
   "id": "9a3d6a85",
   "metadata": {},
   "outputs": [],
   "source": [
    "close = driver.find_element(By.XPATH,\"/html/body/div[1]/div[1]/div[1]/div/div/button\")\n",
    "close.click()"
   ]
  },
  {
   "cell_type": "code",
   "execution_count": 52,
   "id": "480aa901",
   "metadata": {},
   "outputs": [],
   "source": [
    "Loc_fil = driver.find_element(By.CLASS_NAME,'filter_filter_lists_items__wlFfo')\n",
    "Loc_fil.click()"
   ]
  },
  {
   "cell_type": "code",
   "execution_count": 53,
   "id": "0febc0aa",
   "metadata": {},
   "outputs": [],
   "source": [
    "location_name = driver.find_element(By.XPATH,'/html/body/div[1]/div[1]/div[3]/div/div[1]/div/div[2]/div[2]/div/div/div/div[3]/div/div/div/ul/li[10]/span/label')\n",
    "location_name.click()"
   ]
  },
  {
   "cell_type": "code",
   "execution_count": 54,
   "id": "27c5c188",
   "metadata": {},
   "outputs": [],
   "source": [
    "show_result = driver.find_element(By.XPATH,'//div[@class=\"filter_btnWrap__5ToWy\"]//button[2]')\n",
    "show_result.click()"
   ]
  },
  {
   "cell_type": "code",
   "execution_count": 55,
   "id": "0113cc01",
   "metadata": {},
   "outputs": [],
   "source": [
    "sal_fil = driver.find_element(By.XPATH,'/html/body/div[1]/div[1]/div[3]/div/div[1]/div/div[2]/div/ul/li[3]/button')\n",
    "sal_fil.click()"
   ]
  },
  {
   "cell_type": "code",
   "execution_count": 56,
   "id": "bf13a635",
   "metadata": {},
   "outputs": [],
   "source": [
    "salary = driver.find_element(By.XPATH,'/html/body/div[1]/div[1]/div[3]/div/div[1]/div/div[2]/div[2]/div/div/div/div[3]/div/div/div/ul/li[3]/span/label')\n",
    "salary.click()"
   ]
  },
  {
   "cell_type": "code",
   "execution_count": 57,
   "id": "e961d436",
   "metadata": {},
   "outputs": [],
   "source": [
    "show_result = driver.find_element(By.XPATH,'/html/body/div[1]/div[1]/div[3]/div/div[1]/div/div[2]/div[2]/div/div/div/div[4]/button[2]')\n",
    "show_result.click()"
   ]
  },
  {
   "cell_type": "code",
   "execution_count": 58,
   "id": "a5035108",
   "metadata": {},
   "outputs": [],
   "source": [
    "job_title = []\n",
    "title_tags =driver.find_elements(By.XPATH,'//h2[@itemprop=\"name\"]//a')\n",
    "for i in title_tags:\n",
    "    title = i.text\n",
    "    job_title.append(title)\n"
   ]
  },
  {
   "cell_type": "code",
   "execution_count": 59,
   "id": "c579f06e",
   "metadata": {},
   "outputs": [],
   "source": [
    "Loc = []\n",
    "\n",
    "loc_tags = driver.find_elements(By.XPATH,'//div[@class=\" jobCard_jobCard_lists_item__YxRkV jobCard_locationIcon__zrWt2\"]')\n",
    "for i in loc_tags:\n",
    "    location =i.text\n",
    "    Loc.append(location)"
   ]
  },
  {
   "cell_type": "code",
   "execution_count": 60,
   "id": "2b75eb46",
   "metadata": {},
   "outputs": [],
   "source": [
    "company_name = []\n",
    "com_tags = driver.find_elements(By.XPATH,'//div[@class=\"jobCard_jobCard_cName__mYnow\"]//span')\n",
    "for i in com_tags:\n",
    "    company_name.append(i.text)"
   ]
  },
  {
   "cell_type": "code",
   "execution_count": 61,
   "id": "1eaef5c4",
   "metadata": {},
   "outputs": [],
   "source": [
    "exp_req =[]\n",
    "exp_tags = driver.find_elements(By.XPATH,'//div[@class=\" jobCard_jobCard_lists_item__YxRkV jobCard_jobIcon__3FB1t\"]')\n",
    "for i in exp_tags:\n",
    "    exp_req.append(i.text)"
   ]
  },
  {
   "cell_type": "code",
   "execution_count": 62,
   "id": "5eaea9e1",
   "metadata": {},
   "outputs": [
    {
     "data": {
      "text/html": [
       "<div>\n",
       "<style scoped>\n",
       "    .dataframe tbody tr th:only-of-type {\n",
       "        vertical-align: middle;\n",
       "    }\n",
       "\n",
       "    .dataframe tbody tr th {\n",
       "        vertical-align: top;\n",
       "    }\n",
       "\n",
       "    .dataframe thead th {\n",
       "        text-align: right;\n",
       "    }\n",
       "</style>\n",
       "<table border=\"1\" class=\"dataframe\">\n",
       "  <thead>\n",
       "    <tr style=\"text-align: right;\">\n",
       "      <th></th>\n",
       "      <th>Title</th>\n",
       "      <th>Location</th>\n",
       "      <th>Company Name</th>\n",
       "      <th>Experience</th>\n",
       "    </tr>\n",
       "  </thead>\n",
       "  <tbody>\n",
       "    <tr>\n",
       "      <th>0</th>\n",
       "      <td>Data Scientist- Delhi</td>\n",
       "      <td>Delhi</td>\n",
       "      <td>the fashion cosmo</td>\n",
       "      <td>0 to 3 Yrs</td>\n",
       "    </tr>\n",
       "    <tr>\n",
       "      <th>1</th>\n",
       "      <td>Data Scientist-Delhi</td>\n",
       "      <td>Delhi</td>\n",
       "      <td>shiva hr services</td>\n",
       "      <td>0 to 3 Yrs</td>\n",
       "    </tr>\n",
       "    <tr>\n",
       "      <th>2</th>\n",
       "      <td>Data Scientist- Delhi</td>\n",
       "      <td>Delhi</td>\n",
       "      <td>the fashion cosmo</td>\n",
       "      <td>0 to 3 Yrs</td>\n",
       "    </tr>\n",
       "    <tr>\n",
       "      <th>3</th>\n",
       "      <td>Data Scientist- Delhi</td>\n",
       "      <td>Delhi</td>\n",
       "      <td>the fashion cosmo</td>\n",
       "      <td>0 to 3 Yrs</td>\n",
       "    </tr>\n",
       "    <tr>\n",
       "      <th>4</th>\n",
       "      <td>Data Scientist</td>\n",
       "      <td>Delhi\\n+4</td>\n",
       "      <td>acme services private limited</td>\n",
       "      <td>3 to 5 Yrs</td>\n",
       "    </tr>\n",
       "    <tr>\n",
       "      <th>5</th>\n",
       "      <td>Data Scientist</td>\n",
       "      <td>Delhi\\n+6</td>\n",
       "      <td>quiscon biotech</td>\n",
       "      <td>0 to 1 Yr</td>\n",
       "    </tr>\n",
       "    <tr>\n",
       "      <th>6</th>\n",
       "      <td>Data Scientist</td>\n",
       "      <td>Delhi\\n+4</td>\n",
       "      <td>acme services private limited</td>\n",
       "      <td>3 to 5 Yrs</td>\n",
       "    </tr>\n",
       "    <tr>\n",
       "      <th>7</th>\n",
       "      <td>Clinical Data Analyst</td>\n",
       "      <td>Delhi\\n+6</td>\n",
       "      <td>techno endura</td>\n",
       "      <td>0 to 1 Yr</td>\n",
       "    </tr>\n",
       "    <tr>\n",
       "      <th>8</th>\n",
       "      <td>Data Modeler</td>\n",
       "      <td>Delhi\\n+9</td>\n",
       "      <td>v-tech data outsourcing</td>\n",
       "      <td>0 to 2 Yrs</td>\n",
       "    </tr>\n",
       "    <tr>\n",
       "      <th>9</th>\n",
       "      <td>Biostatistician</td>\n",
       "      <td>Delhi\\n+17</td>\n",
       "      <td>national seeds corporation limited</td>\n",
       "      <td>1 to 6 Yrs</td>\n",
       "    </tr>\n",
       "  </tbody>\n",
       "</table>\n",
       "</div>"
      ],
      "text/plain": [
       "                   Title    Location                        Company Name  \\\n",
       "0  Data Scientist- Delhi       Delhi                   the fashion cosmo   \n",
       "1   Data Scientist-Delhi       Delhi                   shiva hr services   \n",
       "2  Data Scientist- Delhi       Delhi                   the fashion cosmo   \n",
       "3  Data Scientist- Delhi       Delhi                   the fashion cosmo   \n",
       "4         Data Scientist   Delhi\\n+4       acme services private limited   \n",
       "5         Data Scientist   Delhi\\n+6                     quiscon biotech   \n",
       "6         Data Scientist   Delhi\\n+4       acme services private limited   \n",
       "7  Clinical Data Analyst   Delhi\\n+6                       techno endura   \n",
       "8           Data Modeler   Delhi\\n+9             v-tech data outsourcing   \n",
       "9        Biostatistician  Delhi\\n+17  national seeds corporation limited   \n",
       "\n",
       "   Experience  \n",
       "0  0 to 3 Yrs  \n",
       "1  0 to 3 Yrs  \n",
       "2  0 to 3 Yrs  \n",
       "3  0 to 3 Yrs  \n",
       "4  3 to 5 Yrs  \n",
       "5   0 to 1 Yr  \n",
       "6  3 to 5 Yrs  \n",
       "7   0 to 1 Yr  \n",
       "8  0 to 2 Yrs  \n",
       "9  1 to 6 Yrs  "
      ]
     },
     "execution_count": 62,
     "metadata": {},
     "output_type": "execute_result"
    }
   ],
   "source": [
    "df = pd.DataFrame({'Title':job_title,'Location':Loc,'Company Name':company_name,'Experience':exp_req})\n",
    "df.head(10)"
   ]
  },
  {
   "cell_type": "markdown",
   "id": "b00bb0ed",
   "metadata": {},
   "source": [
    "# Q4: Scrape data of first 100 sunglasses listings on flipkart.com. You have to scrape four attributes:"
   ]
  },
  {
   "cell_type": "code",
   "execution_count": 63,
   "id": "7c76cf92",
   "metadata": {},
   "outputs": [],
   "source": [
    "driver = webdriver.Chrome()"
   ]
  },
  {
   "cell_type": "code",
   "execution_count": 64,
   "id": "a2c45101",
   "metadata": {},
   "outputs": [],
   "source": [
    "driver.get(\"http://www.flipkart.com/\")"
   ]
  },
  {
   "cell_type": "code",
   "execution_count": 65,
   "id": "7bb61485",
   "metadata": {},
   "outputs": [],
   "source": [
    "close_btn = driver.find_element(By.XPATH,'/html/body/div[3]/div/span')\n",
    "close_btn.click()"
   ]
  },
  {
   "cell_type": "code",
   "execution_count": 66,
   "id": "5b364c69",
   "metadata": {},
   "outputs": [],
   "source": [
    "search_field= driver.find_element(By.CLASS_NAME,\"Pke_EE\")\n",
    "search_field.send_keys(\"sunglasses\")"
   ]
  },
  {
   "cell_type": "code",
   "execution_count": 67,
   "id": "276ead97",
   "metadata": {},
   "outputs": [],
   "source": [
    "search_btn = driver.find_element(By.XPATH,'/html/body/div[1]/div/div[1]/div/div/div/div/div[1]/div/div[1]/div/div[1]/header/div[1]/div[2]/form/div/button')\n",
    "search_btn.click()"
   ]
  },
  {
   "cell_type": "code",
   "execution_count": 69,
   "id": "be122bd3",
   "metadata": {},
   "outputs": [],
   "source": [
    "brand = []\n",
    "discription = []\n",
    "MRP =[]\n",
    "start=0\n",
    "end =3\n",
    "for page in range(start,end):\n",
    "    \n",
    "    brand_name = driver.find_elements(By.XPATH,'//div[@class=\"_2WkVRV\"]')\n",
    "    for i in brand_name:\n",
    "        brand.append(i.text)\n",
    "    prod_dis = driver.find_elements(By.XPATH,'//a[@class=\"IRpwTa\"]')\n",
    "    for i in prod_dis:\n",
    "        discription.append(i.text)\n",
    "    price = driver.find_elements(By.XPATH,'//div[@class=\"_30jeq3\"]')\n",
    "    for i in price:\n",
    "        MRP.append(i.text)\n",
    "    next_btn = driver.find_element(By.XPATH,'//a[@class=\"_1LKTO3\"]//span')\n",
    "    next_btn.click()\n",
    "    time.sleep(4)"
   ]
  },
  {
   "cell_type": "code",
   "execution_count": 71,
   "id": "d85c8190",
   "metadata": {},
   "outputs": [
    {
     "name": "stdout",
     "output_type": "stream",
     "text": [
      "118 120 120\n"
     ]
    }
   ],
   "source": [
    "print(len(discription),len(brand),len(MRP))"
   ]
  },
  {
   "cell_type": "code",
   "execution_count": 73,
   "id": "f3accf2e",
   "metadata": {},
   "outputs": [],
   "source": [
    "df = pd.DataFrame({'Brand':brand,'Price':MRP})\n"
   ]
  },
  {
   "cell_type": "code",
   "execution_count": 75,
   "id": "e1bf8d87",
   "metadata": {},
   "outputs": [],
   "source": [
    "df1 = pd.DataFrame({\"Product Discription\":discription})"
   ]
  },
  {
   "cell_type": "code",
   "execution_count": 76,
   "id": "b07f9aa6",
   "metadata": {},
   "outputs": [
    {
     "data": {
      "text/html": [
       "<div>\n",
       "<style scoped>\n",
       "    .dataframe tbody tr th:only-of-type {\n",
       "        vertical-align: middle;\n",
       "    }\n",
       "\n",
       "    .dataframe tbody tr th {\n",
       "        vertical-align: top;\n",
       "    }\n",
       "\n",
       "    .dataframe thead th {\n",
       "        text-align: right;\n",
       "    }\n",
       "</style>\n",
       "<table border=\"1\" class=\"dataframe\">\n",
       "  <thead>\n",
       "    <tr style=\"text-align: right;\">\n",
       "      <th></th>\n",
       "      <th>Brand</th>\n",
       "      <th>Price</th>\n",
       "      <th>Product Discription</th>\n",
       "    </tr>\n",
       "  </thead>\n",
       "  <tbody>\n",
       "    <tr>\n",
       "      <th>0</th>\n",
       "      <td>ROYAL SON</td>\n",
       "      <td>₹339</td>\n",
       "      <td>Mirrored Aviator Sunglasses (58)</td>\n",
       "    </tr>\n",
       "    <tr>\n",
       "      <th>1</th>\n",
       "      <td>VINCENT CHASE</td>\n",
       "      <td>₹703</td>\n",
       "      <td>Polarized, UV Protection Retro Square Sunglass...</td>\n",
       "    </tr>\n",
       "    <tr>\n",
       "      <th>2</th>\n",
       "      <td>SRPM</td>\n",
       "      <td>₹149</td>\n",
       "      <td>UV Protection Wayfarer Sunglasses (50)</td>\n",
       "    </tr>\n",
       "    <tr>\n",
       "      <th>3</th>\n",
       "      <td>Fastrack</td>\n",
       "      <td>₹549</td>\n",
       "      <td>UV Protection Wayfarer Sunglasses (58)</td>\n",
       "    </tr>\n",
       "    <tr>\n",
       "      <th>4</th>\n",
       "      <td>GANSTA</td>\n",
       "      <td>₹79</td>\n",
       "      <td>Night Vision, Riding Glasses Rectangular Sungl...</td>\n",
       "    </tr>\n",
       "    <tr>\n",
       "      <th>...</th>\n",
       "      <td>...</td>\n",
       "      <td>...</td>\n",
       "      <td>...</td>\n",
       "    </tr>\n",
       "    <tr>\n",
       "      <th>95</th>\n",
       "      <td>Roadster</td>\n",
       "      <td>₹199</td>\n",
       "      <td>UV Protection, Riding Glasses Rectangular Sung...</td>\n",
       "    </tr>\n",
       "    <tr>\n",
       "      <th>96</th>\n",
       "      <td>ROYAL SON</td>\n",
       "      <td>₹424</td>\n",
       "      <td>Gradient, UV Protection Rectangular Sunglasses...</td>\n",
       "    </tr>\n",
       "    <tr>\n",
       "      <th>97</th>\n",
       "      <td>Singco India</td>\n",
       "      <td>₹396</td>\n",
       "      <td>UV Protection Rectangular Sunglasses (59)</td>\n",
       "    </tr>\n",
       "    <tr>\n",
       "      <th>98</th>\n",
       "      <td>GANSTA</td>\n",
       "      <td>₹79</td>\n",
       "      <td>UV Protection Sports, Wrap-around Sunglasses (70)</td>\n",
       "    </tr>\n",
       "    <tr>\n",
       "      <th>99</th>\n",
       "      <td>Roadster</td>\n",
       "      <td>₹249</td>\n",
       "      <td>Polarized, UV Protection Wayfarer, Retro Squar...</td>\n",
       "    </tr>\n",
       "  </tbody>\n",
       "</table>\n",
       "<p>100 rows × 3 columns</p>\n",
       "</div>"
      ],
      "text/plain": [
       "            Brand Price                                Product Discription\n",
       "0       ROYAL SON  ₹339                   Mirrored Aviator Sunglasses (58)\n",
       "1   VINCENT CHASE  ₹703  Polarized, UV Protection Retro Square Sunglass...\n",
       "2            SRPM  ₹149             UV Protection Wayfarer Sunglasses (50)\n",
       "3        Fastrack  ₹549             UV Protection Wayfarer Sunglasses (58)\n",
       "4          GANSTA   ₹79  Night Vision, Riding Glasses Rectangular Sungl...\n",
       "..            ...   ...                                                ...\n",
       "95       Roadster  ₹199  UV Protection, Riding Glasses Rectangular Sung...\n",
       "96      ROYAL SON  ₹424  Gradient, UV Protection Rectangular Sunglasses...\n",
       "97   Singco India  ₹396          UV Protection Rectangular Sunglasses (59)\n",
       "98         GANSTA   ₹79  UV Protection Sports, Wrap-around Sunglasses (70)\n",
       "99       Roadster  ₹249  Polarized, UV Protection Wayfarer, Retro Squar...\n",
       "\n",
       "[100 rows x 3 columns]"
      ]
     },
     "execution_count": 76,
     "metadata": {},
     "output_type": "execute_result"
    }
   ],
   "source": [
    "df2 = pd.concat([df,df1],axis = 1)\n",
    "df2.head(100)"
   ]
  },
  {
   "cell_type": "markdown",
   "id": "412685b3",
   "metadata": {},
   "source": [
    "# Q5: Scrape 100 reviews data from flipkart.com for iphone11 phone. You have to go the link:\n"
   ]
  },
  {
   "cell_type": "code",
   "execution_count": 77,
   "id": "98daea7c",
   "metadata": {},
   "outputs": [],
   "source": [
    "driver = webdriver.Chrome()"
   ]
  },
  {
   "cell_type": "code",
   "execution_count": 78,
   "id": "1a16605c",
   "metadata": {},
   "outputs": [],
   "source": [
    "driver.get(\"https://www.flipkart.com/apple-iphone-11-black-64-gb/p/itm4e5041ba101fd?pid=MOBFWQ6BXGJCEYNY&lid=LSTMOBFWQ6BXGJCEYNYZE3ENS&marketplace=FLIPKART&q=iphone+11&store=tyy/4io&srno=s_1_1&otracker=AS_Query_HistoryAutoSuggest_6_0_na_na_na&otracker1=AS_Query_HistoryAutoSuggest_6_0_na_na_na&fm=organic&iid=e30aaa70-fe6e-466c-81d4-993e630ea913.MOBFWQ6BXGJCEYNY.SEARCH&ppt=hp&ppn=homepage&ssid=nseg9l47e80000001699187524593&qH=f6cdfdaa9f3c23f3\")"
   ]
  },
  {
   "cell_type": "code",
   "execution_count": 79,
   "id": "f95a1a46",
   "metadata": {},
   "outputs": [],
   "source": [
    "all_reviews = driver.find_element(By.XPATH,'//div[@class=\"_3UAT2v _16PBlm\"]//span')\n",
    "all_reviews.click()"
   ]
  },
  {
   "cell_type": "code",
   "execution_count": 80,
   "id": "6b29cff2",
   "metadata": {},
   "outputs": [],
   "source": [
    "review = []\n",
    "summery = []\n",
    "start = 0\n",
    "end =11\n",
    "for page in range(start,end):\n",
    "    \n",
    "    rating_name = driver.find_elements(By.XPATH,'//p[@class=\"_2-N8zT\"]')\n",
    "    for i in rating_name:\n",
    "        review.append(i.text)\n",
    "    summery_name = driver.find_elements(By.XPATH,'//div[@class=\"t-ZTKy\"]//div//div')\n",
    "    for i in summery_name:\n",
    "        summery.append(i.text) \n",
    "    next_btn = driver.find_element(By.XPATH,'/html/body/div[1]/div/div[3]/div/div/div[2]/div[13]/div/div/nav/a[11]')\n",
    "    next_btn.click()\n",
    "    time.sleep(3)\n",
    "\n"
   ]
  },
  {
   "cell_type": "code",
   "execution_count": 81,
   "id": "e8cf1908",
   "metadata": {},
   "outputs": [
    {
     "name": "stdout",
     "output_type": "stream",
     "text": [
      "110 110\n"
     ]
    }
   ],
   "source": [
    "print(len(review),len(summery))"
   ]
  },
  {
   "cell_type": "code",
   "execution_count": 82,
   "id": "7f63bfa0",
   "metadata": {},
   "outputs": [
    {
     "data": {
      "text/html": [
       "<div>\n",
       "<style scoped>\n",
       "    .dataframe tbody tr th:only-of-type {\n",
       "        vertical-align: middle;\n",
       "    }\n",
       "\n",
       "    .dataframe tbody tr th {\n",
       "        vertical-align: top;\n",
       "    }\n",
       "\n",
       "    .dataframe thead th {\n",
       "        text-align: right;\n",
       "    }\n",
       "</style>\n",
       "<table border=\"1\" class=\"dataframe\">\n",
       "  <thead>\n",
       "    <tr style=\"text-align: right;\">\n",
       "      <th></th>\n",
       "      <th>Reviews</th>\n",
       "      <th>Review Summeries</th>\n",
       "    </tr>\n",
       "  </thead>\n",
       "  <tbody>\n",
       "    <tr>\n",
       "      <th>0</th>\n",
       "      <td>Highly recommended</td>\n",
       "      <td>Awesome Battery Life...Camera clarity is too g...</td>\n",
       "    </tr>\n",
       "    <tr>\n",
       "      <th>1</th>\n",
       "      <td>Perfect product!</td>\n",
       "      <td>Photos super</td>\n",
       "    </tr>\n",
       "    <tr>\n",
       "      <th>2</th>\n",
       "      <td>Best in the market!</td>\n",
       "      <td>Good Camera</td>\n",
       "    </tr>\n",
       "    <tr>\n",
       "      <th>3</th>\n",
       "      <td>Classy product</td>\n",
       "      <td>Camera is awesome\\nBest battery backup\\nA perf...</td>\n",
       "    </tr>\n",
       "    <tr>\n",
       "      <th>4</th>\n",
       "      <td>Worth every penny</td>\n",
       "      <td>Feeling awesome after getting the delivery of ...</td>\n",
       "    </tr>\n",
       "    <tr>\n",
       "      <th>...</th>\n",
       "      <td>...</td>\n",
       "      <td>...</td>\n",
       "    </tr>\n",
       "    <tr>\n",
       "      <th>95</th>\n",
       "      <td>Simply awesome</td>\n",
       "      <td>Best phone ur money can get specially if u wan...</td>\n",
       "    </tr>\n",
       "    <tr>\n",
       "      <th>96</th>\n",
       "      <td>Terrific</td>\n",
       "      <td>Very very good excellent thank you for Flipkart</td>\n",
       "    </tr>\n",
       "    <tr>\n",
       "      <th>97</th>\n",
       "      <td>Terrific</td>\n",
       "      <td>Wow I loved this😌❤️thank you Flipkart for show...</td>\n",
       "    </tr>\n",
       "    <tr>\n",
       "      <th>98</th>\n",
       "      <td>Brilliant</td>\n",
       "      <td>iPhone camera</td>\n",
       "    </tr>\n",
       "    <tr>\n",
       "      <th>99</th>\n",
       "      <td>Wonderful</td>\n",
       "      <td>Why is Apple not giving a charger with any of ...</td>\n",
       "    </tr>\n",
       "  </tbody>\n",
       "</table>\n",
       "<p>100 rows × 2 columns</p>\n",
       "</div>"
      ],
      "text/plain": [
       "                Reviews                                   Review Summeries\n",
       "0    Highly recommended  Awesome Battery Life...Camera clarity is too g...\n",
       "1      Perfect product!                                       Photos super\n",
       "2   Best in the market!                                        Good Camera\n",
       "3        Classy product  Camera is awesome\\nBest battery backup\\nA perf...\n",
       "4     Worth every penny  Feeling awesome after getting the delivery of ...\n",
       "..                  ...                                                ...\n",
       "95       Simply awesome  Best phone ur money can get specially if u wan...\n",
       "96             Terrific    Very very good excellent thank you for Flipkart\n",
       "97             Terrific  Wow I loved this😌❤️thank you Flipkart for show...\n",
       "98            Brilliant                                      iPhone camera\n",
       "99            Wonderful  Why is Apple not giving a charger with any of ...\n",
       "\n",
       "[100 rows x 2 columns]"
      ]
     },
     "execution_count": 82,
     "metadata": {},
     "output_type": "execute_result"
    }
   ],
   "source": [
    "df = pd.DataFrame({'Reviews':review,\"Review Summeries\":summery})\n",
    "df.head(100)"
   ]
  },
  {
   "cell_type": "markdown",
   "id": "4733cc0a",
   "metadata": {},
   "source": [
    "# Q6: Scrape data forfirst 100 sneakers you find whenyou visit flipkart.com and search for “sneakers” in the search field."
   ]
  },
  {
   "cell_type": "code",
   "execution_count": 83,
   "id": "38802873",
   "metadata": {},
   "outputs": [],
   "source": [
    "driver = webdriver.Chrome()"
   ]
  },
  {
   "cell_type": "code",
   "execution_count": 84,
   "id": "51d1a28e",
   "metadata": {},
   "outputs": [],
   "source": [
    "driver.get(\"http://www.flipkart.com/\")"
   ]
  },
  {
   "cell_type": "code",
   "execution_count": 85,
   "id": "9d76917e",
   "metadata": {},
   "outputs": [],
   "source": [
    "close_btn = driver.find_element(By.XPATH,'/html/body/div[3]/div/span')\n",
    "close_btn.click()"
   ]
  },
  {
   "cell_type": "code",
   "execution_count": 86,
   "id": "3b075906",
   "metadata": {},
   "outputs": [],
   "source": [
    "search_field= driver.find_element(By.CLASS_NAME,\"Pke_EE\")\n",
    "search_field.send_keys(\"sneakers\")"
   ]
  },
  {
   "cell_type": "code",
   "execution_count": 87,
   "id": "863cb19f",
   "metadata": {},
   "outputs": [],
   "source": [
    "search_btn = driver.find_element(By.XPATH,'/html/body/div[1]/div/div[1]/div/div/div/div/div[1]/div/div[1]/div/div[1]/header/div[1]/div[2]/form/div/button')\n",
    "search_btn.click()"
   ]
  },
  {
   "cell_type": "code",
   "execution_count": 88,
   "id": "b650e748",
   "metadata": {},
   "outputs": [],
   "source": [
    "brand = []\n",
    "discription = []\n",
    "MRP =[]\n",
    "start=0\n",
    "end =3\n",
    "for page in range(start,end):\n",
    "    #for Brand Name\n",
    "    brand_name = driver.find_elements(By.XPATH,'//div[@class=\"_2WkVRV\"]')\n",
    "    for i in brand_name:\n",
    "        brand.append(i.text)\n",
    "    # for Product Discription\n",
    "    prod_dis = driver.find_elements(By.XPATH,'//a[@class=\"IRpwTa\"]')\n",
    "    for i in prod_dis:\n",
    "        discription.append(i.text)\n",
    "    # for price show    \n",
    "    price = driver.find_elements(By.XPATH,'//div[@class=\"_30jeq3\"]')\n",
    "    for i in price:\n",
    "        MRP.append(i.text)\n",
    "    \n",
    "    next_btn = driver.find_element(By.XPATH,'/html/body/div/div/div[3]/div[1]/div[2]/div[12]/div/div/nav/a[11]')\n",
    "    next_btn.click()\n",
    "    time.sleep(4)"
   ]
  },
  {
   "cell_type": "code",
   "execution_count": 89,
   "id": "08526111",
   "metadata": {},
   "outputs": [
    {
     "name": "stdout",
     "output_type": "stream",
     "text": [
      "120 117 120\n"
     ]
    }
   ],
   "source": [
    "print(len(brand),len(discription),len(MRP))"
   ]
  },
  {
   "cell_type": "code",
   "execution_count": 90,
   "id": "fad6e8cd",
   "metadata": {},
   "outputs": [],
   "source": [
    "df = pd.DataFrame({'Brand':brand,'Price':MRP})\n"
   ]
  },
  {
   "cell_type": "code",
   "execution_count": 91,
   "id": "95bc3bfa",
   "metadata": {},
   "outputs": [],
   "source": [
    "df1 = pd.DataFrame({'Product Discription':discription})"
   ]
  },
  {
   "cell_type": "code",
   "execution_count": 92,
   "id": "af9e9b2c",
   "metadata": {},
   "outputs": [
    {
     "data": {
      "text/html": [
       "<div>\n",
       "<style scoped>\n",
       "    .dataframe tbody tr th:only-of-type {\n",
       "        vertical-align: middle;\n",
       "    }\n",
       "\n",
       "    .dataframe tbody tr th {\n",
       "        vertical-align: top;\n",
       "    }\n",
       "\n",
       "    .dataframe thead th {\n",
       "        text-align: right;\n",
       "    }\n",
       "</style>\n",
       "<table border=\"1\" class=\"dataframe\">\n",
       "  <thead>\n",
       "    <tr style=\"text-align: right;\">\n",
       "      <th></th>\n",
       "      <th>Brand</th>\n",
       "      <th>Price</th>\n",
       "      <th>Product Discription</th>\n",
       "    </tr>\n",
       "  </thead>\n",
       "  <tbody>\n",
       "    <tr>\n",
       "      <th>0</th>\n",
       "      <td>BRUTON</td>\n",
       "      <td>₹497</td>\n",
       "      <td>Combo Pack Of 2 Men’s Casual Shoes Sneakers Fo...</td>\n",
       "    </tr>\n",
       "    <tr>\n",
       "      <th>1</th>\n",
       "      <td>BRUTON</td>\n",
       "      <td>₹497</td>\n",
       "      <td>!Combo Pack Of 2 Casual Shoes! Sneakers For Men</td>\n",
       "    </tr>\n",
       "    <tr>\n",
       "      <th>2</th>\n",
       "      <td>aadi</td>\n",
       "      <td>₹289</td>\n",
       "      <td>Synthetic Leather |Lightweight|Comfort|Summer|...</td>\n",
       "    </tr>\n",
       "    <tr>\n",
       "      <th>3</th>\n",
       "      <td>URBANBOX</td>\n",
       "      <td>₹299</td>\n",
       "      <td>Trending Stylish Casual Outdoor Sneakers Shoes...</td>\n",
       "    </tr>\n",
       "    <tr>\n",
       "      <th>4</th>\n",
       "      <td>Layasa</td>\n",
       "      <td>₹299</td>\n",
       "      <td>Sneakers For Men</td>\n",
       "    </tr>\n",
       "    <tr>\n",
       "      <th>...</th>\n",
       "      <td>...</td>\n",
       "      <td>...</td>\n",
       "      <td>...</td>\n",
       "    </tr>\n",
       "    <tr>\n",
       "      <th>95</th>\n",
       "      <td>HRX by Hrithik Roshan</td>\n",
       "      <td>₹924</td>\n",
       "      <td>Rerooted Classics Sneakers For Men</td>\n",
       "    </tr>\n",
       "    <tr>\n",
       "      <th>96</th>\n",
       "      <td>RapidBox</td>\n",
       "      <td>₹595</td>\n",
       "      <td>Sneakers For Men</td>\n",
       "    </tr>\n",
       "    <tr>\n",
       "      <th>97</th>\n",
       "      <td>Peelu</td>\n",
       "      <td>₹647</td>\n",
       "      <td>Synthetic Leather |Lightweight|Comfort|Summer|...</td>\n",
       "    </tr>\n",
       "    <tr>\n",
       "      <th>98</th>\n",
       "      <td>PUMA</td>\n",
       "      <td>₹2,249</td>\n",
       "      <td>Smash V2 Buck Sneakers For Men</td>\n",
       "    </tr>\n",
       "    <tr>\n",
       "      <th>99</th>\n",
       "      <td>MEGPAR</td>\n",
       "      <td>₹419</td>\n",
       "      <td>Megpar White New Stylish Look Comfortable Casu...</td>\n",
       "    </tr>\n",
       "  </tbody>\n",
       "</table>\n",
       "<p>100 rows × 3 columns</p>\n",
       "</div>"
      ],
      "text/plain": [
       "                    Brand   Price  \\\n",
       "0                  BRUTON    ₹497   \n",
       "1                  BRUTON    ₹497   \n",
       "2                    aadi    ₹289   \n",
       "3                URBANBOX    ₹299   \n",
       "4                  Layasa    ₹299   \n",
       "..                    ...     ...   \n",
       "95  HRX by Hrithik Roshan    ₹924   \n",
       "96               RapidBox    ₹595   \n",
       "97                  Peelu    ₹647   \n",
       "98                   PUMA  ₹2,249   \n",
       "99                 MEGPAR    ₹419   \n",
       "\n",
       "                                  Product Discription  \n",
       "0   Combo Pack Of 2 Men’s Casual Shoes Sneakers Fo...  \n",
       "1     !Combo Pack Of 2 Casual Shoes! Sneakers For Men  \n",
       "2   Synthetic Leather |Lightweight|Comfort|Summer|...  \n",
       "3   Trending Stylish Casual Outdoor Sneakers Shoes...  \n",
       "4                                    Sneakers For Men  \n",
       "..                                                ...  \n",
       "95                 Rerooted Classics Sneakers For Men  \n",
       "96                                   Sneakers For Men  \n",
       "97  Synthetic Leather |Lightweight|Comfort|Summer|...  \n",
       "98                     Smash V2 Buck Sneakers For Men  \n",
       "99  Megpar White New Stylish Look Comfortable Casu...  \n",
       "\n",
       "[100 rows x 3 columns]"
      ]
     },
     "execution_count": 92,
     "metadata": {},
     "output_type": "execute_result"
    }
   ],
   "source": [
    "df2 = pd.concat([df,df1],axis=1)\n",
    "df2.head(100)"
   ]
  },
  {
   "cell_type": "markdown",
   "id": "2820de11",
   "metadata": {},
   "source": [
    "# Q7: Go to webpage https://www.amazon.in/ Enter “Laptop” in the search field and then click the search icon. Then set CPU Type filter to “Intel Core i7” as shown in the below image:"
   ]
  },
  {
   "cell_type": "code",
   "execution_count": 93,
   "id": "cbd52d2e",
   "metadata": {},
   "outputs": [],
   "source": [
    "driver = webdriver.Chrome()"
   ]
  },
  {
   "cell_type": "code",
   "execution_count": 94,
   "id": "0e7e5ea3",
   "metadata": {},
   "outputs": [],
   "source": [
    "driver.get(\"https://www.amazon.in/\")"
   ]
  },
  {
   "cell_type": "code",
   "execution_count": 97,
   "id": "e6c2dbbc",
   "metadata": {},
   "outputs": [],
   "source": [
    "search_field= driver.find_element(By.ID,'nav-bb-search')\n",
    "search_field.send_keys(\"Laptop\")"
   ]
  },
  {
   "cell_type": "code",
   "execution_count": 99,
   "id": "f094eaec",
   "metadata": {},
   "outputs": [],
   "source": [
    "search_btn = driver.find_element(By.XPATH,'//input[@class=\"nav-bb-button\"]')\n",
    "search_btn.click()"
   ]
  },
  {
   "cell_type": "code",
   "execution_count": 100,
   "id": "27a52574",
   "metadata": {},
   "outputs": [],
   "source": [
    "cpu = driver.find_element(By.XPATH,'/html/body/div[1]/div[1]/div[1]/div[2]/div/div[3]/span/div[1]/div/div/div[6]/ul[6]/span[12]/li/span/a/span')\n",
    "cpu.click()"
   ]
  },
  {
   "cell_type": "code",
   "execution_count": 101,
   "id": "4a3d6978",
   "metadata": {},
   "outputs": [],
   "source": [
    "title = []\n",
    "rating = []\n",
    "MRP =[]\n",
    "     #for Brand Name\n",
    "title_name = driver.find_elements(By.XPATH,'//div[@class=\"a-section a-spacing-none puis-padding-right-small s-title-instructions-style\"]')\n",
    "for i in title_name:\n",
    "    title.append(i.text)\n",
    "    # for Product Discription\n",
    "rating_num = driver.find_elements(By.XPATH,'//span[@class=\"a-size-base s-underline-text\"]')\n",
    "for i in rating_num:\n",
    "    rating.append(i.text)\n",
    "     # for price show    \n",
    "price = driver.find_elements(By.XPATH,'//span[@class=\"a-price-whole\"]')\n",
    "for i in price:\n",
    "    MRP.append(i.text)\n",
    "    \n",
    "   "
   ]
  },
  {
   "cell_type": "code",
   "execution_count": 102,
   "id": "5f963df1",
   "metadata": {},
   "outputs": [
    {
     "name": "stdout",
     "output_type": "stream",
     "text": [
      "24 21 23\n"
     ]
    }
   ],
   "source": [
    "print(len(title),len(rating),len(MRP))"
   ]
  },
  {
   "cell_type": "code",
   "execution_count": 103,
   "id": "6d2d6704",
   "metadata": {},
   "outputs": [],
   "source": [
    "df = pd.DataFrame({'Title':title})"
   ]
  },
  {
   "cell_type": "code",
   "execution_count": 104,
   "id": "1e211122",
   "metadata": {},
   "outputs": [],
   "source": [
    "df1 = pd.DataFrame({'Price':MRP})"
   ]
  },
  {
   "cell_type": "code",
   "execution_count": 105,
   "id": "7cfb1525",
   "metadata": {},
   "outputs": [],
   "source": [
    "df2 = pd.DataFrame({'rating':rating})"
   ]
  },
  {
   "cell_type": "code",
   "execution_count": 107,
   "id": "46c5137a",
   "metadata": {},
   "outputs": [
    {
     "data": {
      "text/html": [
       "<div>\n",
       "<style scoped>\n",
       "    .dataframe tbody tr th:only-of-type {\n",
       "        vertical-align: middle;\n",
       "    }\n",
       "\n",
       "    .dataframe tbody tr th {\n",
       "        vertical-align: top;\n",
       "    }\n",
       "\n",
       "    .dataframe thead th {\n",
       "        text-align: right;\n",
       "    }\n",
       "</style>\n",
       "<table border=\"1\" class=\"dataframe\">\n",
       "  <thead>\n",
       "    <tr style=\"text-align: right;\">\n",
       "      <th></th>\n",
       "      <th>Title</th>\n",
       "      <th>Price</th>\n",
       "      <th>rating</th>\n",
       "    </tr>\n",
       "  </thead>\n",
       "  <tbody>\n",
       "    <tr>\n",
       "      <th>0</th>\n",
       "      <td>MSI Modern 14, Intel 12th Gen. i7-1255U, 36CM ...</td>\n",
       "      <td>49,990</td>\n",
       "      <td>23</td>\n",
       "    </tr>\n",
       "    <tr>\n",
       "      <th>1</th>\n",
       "      <td>ASUS TUF Gaming F15, 15.6\"(39.62 cms) FHD 144H...</td>\n",
       "      <td>68,990</td>\n",
       "      <td>52</td>\n",
       "    </tr>\n",
       "    <tr>\n",
       "      <th>2</th>\n",
       "      <td>Lenovo IdeaPad Slim 3 Intel Core i7 11th Gen 1...</td>\n",
       "      <td>52,990</td>\n",
       "      <td>59</td>\n",
       "    </tr>\n",
       "    <tr>\n",
       "      <th>3</th>\n",
       "      <td>MSI GF63 Thin, Intel Core i7-11800H, 40CM FHD ...</td>\n",
       "      <td>57,990</td>\n",
       "      <td>150</td>\n",
       "    </tr>\n",
       "    <tr>\n",
       "      <th>4</th>\n",
       "      <td>ASUS Vivobook 15, Intel Core i7-12650H 12th Ge...</td>\n",
       "      <td>60,990</td>\n",
       "      <td>330</td>\n",
       "    </tr>\n",
       "    <tr>\n",
       "      <th>5</th>\n",
       "      <td>HP Laptop 15s, 12th Gen Intel Core i7-1255U, 1...</td>\n",
       "      <td>63,990</td>\n",
       "      <td>20</td>\n",
       "    </tr>\n",
       "    <tr>\n",
       "      <th>6</th>\n",
       "      <td>MSI GF63 Thin, Intel Core i7-11800H, 40CM FHD ...</td>\n",
       "      <td>64,990</td>\n",
       "      <td>96</td>\n",
       "    </tr>\n",
       "    <tr>\n",
       "      <th>7</th>\n",
       "      <td>Dell Inspiron 5430 Laptop, Intel Core i7-1360P...</td>\n",
       "      <td>84,990</td>\n",
       "      <td>46</td>\n",
       "    </tr>\n",
       "    <tr>\n",
       "      <th>8</th>\n",
       "      <td>Acer Aspire Lite Premium Metal Laptop 11th Gen...</td>\n",
       "      <td>47,990</td>\n",
       "      <td>173</td>\n",
       "    </tr>\n",
       "    <tr>\n",
       "      <th>9</th>\n",
       "      <td>Samsung Galaxy Book3 Core i7 13th Gen 1355U - ...</td>\n",
       "      <td>84,390</td>\n",
       "      <td>28</td>\n",
       "    </tr>\n",
       "  </tbody>\n",
       "</table>\n",
       "</div>"
      ],
      "text/plain": [
       "                                               Title   Price rating\n",
       "0  MSI Modern 14, Intel 12th Gen. i7-1255U, 36CM ...  49,990     23\n",
       "1  ASUS TUF Gaming F15, 15.6\"(39.62 cms) FHD 144H...  68,990     52\n",
       "2  Lenovo IdeaPad Slim 3 Intel Core i7 11th Gen 1...  52,990     59\n",
       "3  MSI GF63 Thin, Intel Core i7-11800H, 40CM FHD ...  57,990    150\n",
       "4  ASUS Vivobook 15, Intel Core i7-12650H 12th Ge...  60,990    330\n",
       "5  HP Laptop 15s, 12th Gen Intel Core i7-1255U, 1...  63,990     20\n",
       "6  MSI GF63 Thin, Intel Core i7-11800H, 40CM FHD ...  64,990     96\n",
       "7  Dell Inspiron 5430 Laptop, Intel Core i7-1360P...  84,990     46\n",
       "8  Acer Aspire Lite Premium Metal Laptop 11th Gen...  47,990    173\n",
       "9  Samsung Galaxy Book3 Core i7 13th Gen 1355U - ...  84,390     28"
      ]
     },
     "execution_count": 107,
     "metadata": {},
     "output_type": "execute_result"
    }
   ],
   "source": [
    "df3 = pd.concat([df,df1,df2],axis=1)\n",
    "df3.head(10)"
   ]
  },
  {
   "cell_type": "markdown",
   "id": "3945592a",
   "metadata": {},
   "source": [
    "# Q8: Write a python program to scrape data for Top 1000 Quotes of All Time."
   ]
  },
  {
   "cell_type": "code",
   "execution_count": 108,
   "id": "7bda1c62",
   "metadata": {},
   "outputs": [],
   "source": [
    "driver = webdriver.Chrome()"
   ]
  },
  {
   "cell_type": "code",
   "execution_count": 109,
   "id": "524e5b2f",
   "metadata": {},
   "outputs": [],
   "source": [
    "driver.get(\"https://www.azquotes.com/\")"
   ]
  },
  {
   "cell_type": "code",
   "execution_count": 110,
   "id": "11c0e4dd",
   "metadata": {},
   "outputs": [],
   "source": [
    "top_quotes =driver.find_element(By.XPATH,'/html/body/div[1]/div[1]/div[1]/div/div[3]/ul/li[5]/a')\n",
    "top_quotes.click()"
   ]
  },
  {
   "cell_type": "code",
   "execution_count": 111,
   "id": "e5592d27",
   "metadata": {},
   "outputs": [],
   "source": [
    "quotes = []\n",
    "author = []\n",
    "type_of_quotes =[]\n",
    "start = 0\n",
    "end = 9\n",
    "\n",
    "for pages in range(start,end):\n",
    "    quotes_name = driver.find_elements(By.XPATH,'//a[@class=\"title\"]')\n",
    "    for i in quotes_name:\n",
    "        quotes.append(i.text)\n",
    "    author_name = driver.find_elements(By.XPATH,'//div[@class=\"author\"]//a')\n",
    "    for i in author_name:\n",
    "        author.append(i.text)\n",
    "    types = driver.find_elements(By.XPATH,'//div[@class=\"tags\"]')\n",
    "    for i in types:\n",
    "        type_of_quotes.append(i.text)\n",
    "    next_btn = driver.find_element(By.XPATH,'//li[@class=\"next\"]//a')\n",
    "    next_btn.click()\n",
    "    time.sleep(2)\n",
    "   "
   ]
  },
  {
   "cell_type": "code",
   "execution_count": 112,
   "id": "47a757fd",
   "metadata": {},
   "outputs": [
    {
     "name": "stdout",
     "output_type": "stream",
     "text": [
      "900 900 900\n"
     ]
    }
   ],
   "source": [
    "print(len(quotes),len(author),len(type_of_quotes))"
   ]
  },
  {
   "cell_type": "code",
   "execution_count": 113,
   "id": "619bb274",
   "metadata": {},
   "outputs": [
    {
     "data": {
      "text/html": [
       "<div>\n",
       "<style scoped>\n",
       "    .dataframe tbody tr th:only-of-type {\n",
       "        vertical-align: middle;\n",
       "    }\n",
       "\n",
       "    .dataframe tbody tr th {\n",
       "        vertical-align: top;\n",
       "    }\n",
       "\n",
       "    .dataframe thead th {\n",
       "        text-align: right;\n",
       "    }\n",
       "</style>\n",
       "<table border=\"1\" class=\"dataframe\">\n",
       "  <thead>\n",
       "    <tr style=\"text-align: right;\">\n",
       "      <th></th>\n",
       "      <th>Quotes</th>\n",
       "      <th>Author Name</th>\n",
       "      <th>Type of Quotes</th>\n",
       "    </tr>\n",
       "  </thead>\n",
       "  <tbody>\n",
       "    <tr>\n",
       "      <th>0</th>\n",
       "      <td>The essence of strategy is choosing what not t...</td>\n",
       "      <td>Michael Porter</td>\n",
       "      <td>Essence, Deep Thought, Transcendentalism</td>\n",
       "    </tr>\n",
       "    <tr>\n",
       "      <th>1</th>\n",
       "      <td>One cannot and must not try to erase the past ...</td>\n",
       "      <td>Golda Meir</td>\n",
       "      <td>Inspiration, Past, Trying</td>\n",
       "    </tr>\n",
       "    <tr>\n",
       "      <th>2</th>\n",
       "      <td>Patriotism means to stand by the country. It d...</td>\n",
       "      <td>Theodore Roosevelt</td>\n",
       "      <td>Country, Peace, War</td>\n",
       "    </tr>\n",
       "    <tr>\n",
       "      <th>3</th>\n",
       "      <td>Death is something inevitable. When a man has ...</td>\n",
       "      <td>Nelson Mandela</td>\n",
       "      <td>Inspirational, Motivational, Death</td>\n",
       "    </tr>\n",
       "    <tr>\n",
       "      <th>4</th>\n",
       "      <td>You have to love a nation that celebrates its ...</td>\n",
       "      <td>Erma Bombeck</td>\n",
       "      <td>4th Of July, Food, Patriotic</td>\n",
       "    </tr>\n",
       "    <tr>\n",
       "      <th>...</th>\n",
       "      <td>...</td>\n",
       "      <td>...</td>\n",
       "      <td>...</td>\n",
       "    </tr>\n",
       "    <tr>\n",
       "      <th>895</th>\n",
       "      <td>To love means loving the unlovable. To forgive...</td>\n",
       "      <td>Gilbert K. Chesterton</td>\n",
       "      <td>Love, Inspirational, Success</td>\n",
       "    </tr>\n",
       "    <tr>\n",
       "      <th>896</th>\n",
       "      <td>Be brave. Take risks. Nothing can substitute e...</td>\n",
       "      <td>Paulo Coelho</td>\n",
       "      <td>Encouraging, Courage, Inspiration</td>\n",
       "    </tr>\n",
       "    <tr>\n",
       "      <th>897</th>\n",
       "      <td>If you really want to do something, you'll fin...</td>\n",
       "      <td>Jim Rohn</td>\n",
       "      <td>Inspirational, Motivational, Success</td>\n",
       "    </tr>\n",
       "    <tr>\n",
       "      <th>898</th>\n",
       "      <td>It is neither wealth nor splendor; but tranqui...</td>\n",
       "      <td>Thomas Jefferson</td>\n",
       "      <td>Life, Happiness, Work</td>\n",
       "    </tr>\n",
       "    <tr>\n",
       "      <th>899</th>\n",
       "      <td>A thousand words will not leave so deep an imp...</td>\n",
       "      <td>Henrik Ibsen</td>\n",
       "      <td>Inspirational, Inspiring, Positivity</td>\n",
       "    </tr>\n",
       "  </tbody>\n",
       "</table>\n",
       "<p>900 rows × 3 columns</p>\n",
       "</div>"
      ],
      "text/plain": [
       "                                                Quotes            Author Name  \\\n",
       "0    The essence of strategy is choosing what not t...         Michael Porter   \n",
       "1    One cannot and must not try to erase the past ...             Golda Meir   \n",
       "2    Patriotism means to stand by the country. It d...     Theodore Roosevelt   \n",
       "3    Death is something inevitable. When a man has ...         Nelson Mandela   \n",
       "4    You have to love a nation that celebrates its ...           Erma Bombeck   \n",
       "..                                                 ...                    ...   \n",
       "895  To love means loving the unlovable. To forgive...  Gilbert K. Chesterton   \n",
       "896  Be brave. Take risks. Nothing can substitute e...           Paulo Coelho   \n",
       "897  If you really want to do something, you'll fin...               Jim Rohn   \n",
       "898  It is neither wealth nor splendor; but tranqui...       Thomas Jefferson   \n",
       "899  A thousand words will not leave so deep an imp...           Henrik Ibsen   \n",
       "\n",
       "                               Type of Quotes  \n",
       "0    Essence, Deep Thought, Transcendentalism  \n",
       "1                   Inspiration, Past, Trying  \n",
       "2                         Country, Peace, War  \n",
       "3          Inspirational, Motivational, Death  \n",
       "4                4th Of July, Food, Patriotic  \n",
       "..                                        ...  \n",
       "895              Love, Inspirational, Success  \n",
       "896         Encouraging, Courage, Inspiration  \n",
       "897      Inspirational, Motivational, Success  \n",
       "898                     Life, Happiness, Work  \n",
       "899      Inspirational, Inspiring, Positivity  \n",
       "\n",
       "[900 rows x 3 columns]"
      ]
     },
     "execution_count": 113,
     "metadata": {},
     "output_type": "execute_result"
    }
   ],
   "source": [
    "df = pd.DataFrame({'Quotes':quotes,'Author Name':author,'Type of Quotes':type_of_quotes})\n",
    "df"
   ]
  },
  {
   "cell_type": "markdown",
   "id": "764f99e9",
   "metadata": {},
   "source": [
    "# Q9: Write a python program to display list of respected former Prime Ministers of India(i.e. Name, Born-Dead,Term of office, Remarks) from https://www.jagranjosh.com/."
   ]
  },
  {
   "cell_type": "code",
   "execution_count": 114,
   "id": "74768951",
   "metadata": {},
   "outputs": [],
   "source": [
    "driver = webdriver.Chrome()"
   ]
  },
  {
   "cell_type": "code",
   "execution_count": 115,
   "id": "c80cd6a2",
   "metadata": {},
   "outputs": [],
   "source": [
    "driver.get(\"https://www.jagranjosh.com/\")"
   ]
  },
  {
   "cell_type": "code",
   "execution_count": 116,
   "id": "4b0d5a97",
   "metadata": {},
   "outputs": [],
   "source": [
    "GK =driver.find_element(By.XPATH,'/html/body/div[1]/header/nav/div/div/div[3]/ul/li[6]/a')\n",
    "GK.click()"
   ]
  },
  {
   "cell_type": "code",
   "execution_count": 118,
   "id": "647e1bfa",
   "metadata": {},
   "outputs": [],
   "source": [
    "prime_ministers = driver.find_element(By.XPATH,'/html/body/div[2]/div/div/div[2]/div/div[10]/div/div/ul/li[2]/a')\n",
    "prime_ministers.click()"
   ]
  },
  {
   "cell_type": "code",
   "execution_count": 120,
   "id": "41175772",
   "metadata": {},
   "outputs": [],
   "source": [
    "data = []\n",
    "table = driver.find_elements(By.XPATH,'//div[@class=\"table-box\"]//table//tbody//tr[2]')\n",
    "#rows = table.find_element(By.TAG_NAME,'tr')\n",
    "for row in table:\n",
    "    cols = row.find_elements(By.TAG_NAME,'td')\n",
    "    \n",
    "    if len(cols) == 5:\n",
    "    \n",
    "        name = cols[0].text\n",
    "        born_dead = cols[1].text\n",
    "        term_of_office = cols[2].text\n",
    "        remarks = cols[3].text\n",
    "    data.append([name, born_dead, term_of_office, remarks])"
   ]
  },
  {
   "cell_type": "code",
   "execution_count": 121,
   "id": "953631bc",
   "metadata": {},
   "outputs": [
    {
     "data": {
      "text/html": [
       "<div>\n",
       "<style scoped>\n",
       "    .dataframe tbody tr th:only-of-type {\n",
       "        vertical-align: middle;\n",
       "    }\n",
       "\n",
       "    .dataframe tbody tr th {\n",
       "        vertical-align: top;\n",
       "    }\n",
       "\n",
       "    .dataframe thead th {\n",
       "        text-align: right;\n",
       "    }\n",
       "</style>\n",
       "<table border=\"1\" class=\"dataframe\">\n",
       "  <thead>\n",
       "    <tr style=\"text-align: right;\">\n",
       "      <th></th>\n",
       "      <th>Name</th>\n",
       "      <th>Born-Dead</th>\n",
       "      <th>Term of Office</th>\n",
       "      <th>Remarks</th>\n",
       "    </tr>\n",
       "  </thead>\n",
       "  <tbody>\n",
       "    <tr>\n",
       "      <th>0</th>\n",
       "      <td>1.</td>\n",
       "      <td>Jawahar Lal Nehru</td>\n",
       "      <td>(1889–1964)</td>\n",
       "      <td>15 August 1947 to 27 May 1964\\n16 years, 286 days</td>\n",
       "    </tr>\n",
       "  </tbody>\n",
       "</table>\n",
       "</div>"
      ],
      "text/plain": [
       "  Name          Born-Dead Term of Office  \\\n",
       "0   1.  Jawahar Lal Nehru    (1889–1964)   \n",
       "\n",
       "                                             Remarks  \n",
       "0  15 August 1947 to 27 May 1964\\n16 years, 286 days  "
      ]
     },
     "execution_count": 121,
     "metadata": {},
     "output_type": "execute_result"
    }
   ],
   "source": [
    "df = pd.DataFrame(data, columns=['Name', 'Born-Dead', 'Term of Office', 'Remarks'])\n",
    "df"
   ]
  },
  {
   "cell_type": "markdown",
   "id": "fd2af07e",
   "metadata": {},
   "source": [
    "# Q10: Write a python program to display list of 50 Most expensive cars in the world (i.e. Car name and Price) from https://www.motor1.com/"
   ]
  },
  {
   "cell_type": "code",
   "execution_count": 122,
   "id": "3981d0ed",
   "metadata": {},
   "outputs": [],
   "source": [
    "driver = webdriver.Chrome()"
   ]
  },
  {
   "cell_type": "code",
   "execution_count": 123,
   "id": "c1e5d65e",
   "metadata": {},
   "outputs": [],
   "source": [
    "driver.get(\"https://www.motor1.com/\")"
   ]
  },
  {
   "cell_type": "code",
   "execution_count": 124,
   "id": "ad91aeb1",
   "metadata": {},
   "outputs": [],
   "source": [
    "search_bar = driver.find_element(By.XPATH,'//input[@class=\"m1-search-panel-input m1-search-form-text\"]')\n",
    "search_bar.send_keys('50 most expensive cars')"
   ]
  },
  {
   "cell_type": "code",
   "execution_count": 125,
   "id": "5932f813",
   "metadata": {},
   "outputs": [],
   "source": [
    "search_btn = driver.find_element(By.XPATH,'//button[@class=\"m1-search-panel-button m1-search-form-button-animate icon-search-svg\"]')\n",
    "search_btn.click()"
   ]
  },
  {
   "cell_type": "code",
   "execution_count": 126,
   "id": "bfe48ce3",
   "metadata": {},
   "outputs": [],
   "source": [
    "world = driver.find_element(By.XPATH,'/html/body/div[10]/div[9]/div/div[1]/div/div/div[2]/div/div[1]/h3/a')\n",
    "world.click()"
   ]
  },
  {
   "cell_type": "code",
   "execution_count": 127,
   "id": "2877fdc6",
   "metadata": {},
   "outputs": [],
   "source": [
    "car_name = []\n",
    "price = []\n",
    "\n",
    "title_name = driver.find_elements(By.XPATH,'//h3[@class=\"subheader\"]')\n",
    "for i in title_name:\n",
    "    car_name.append(i.text)\n",
    "    \n",
    "mrp= driver.find_elements(By.TAG_NAME,'strong')\n",
    "for i in mrp:\n",
    "    price.append(i.text)\n",
    "    \n",
    "   "
   ]
  },
  {
   "cell_type": "code",
   "execution_count": 128,
   "id": "fb18be15",
   "metadata": {},
   "outputs": [
    {
     "name": "stdout",
     "output_type": "stream",
     "text": [
      "51 50\n"
     ]
    }
   ],
   "source": [
    "print(len(car_name),len(price))"
   ]
  },
  {
   "cell_type": "code",
   "execution_count": 129,
   "id": "4f7f5550",
   "metadata": {},
   "outputs": [],
   "source": [
    "df  = pd.DataFrame({'Car Name':car_name})"
   ]
  },
  {
   "cell_type": "code",
   "execution_count": 130,
   "id": "e17f9a27",
   "metadata": {},
   "outputs": [],
   "source": [
    "df1 = pd.DataFrame({'Price':price})"
   ]
  },
  {
   "cell_type": "code",
   "execution_count": 131,
   "id": "1b5d66cd",
   "metadata": {},
   "outputs": [],
   "source": [
    "df2 = pd.concat([df,df1],axis=1)"
   ]
  },
  {
   "cell_type": "code",
   "execution_count": 132,
   "id": "49b70edf",
   "metadata": {},
   "outputs": [
    {
     "data": {
      "text/html": [
       "<div>\n",
       "<style scoped>\n",
       "    .dataframe tbody tr th:only-of-type {\n",
       "        vertical-align: middle;\n",
       "    }\n",
       "\n",
       "    .dataframe tbody tr th {\n",
       "        vertical-align: top;\n",
       "    }\n",
       "\n",
       "    .dataframe thead th {\n",
       "        text-align: right;\n",
       "    }\n",
       "</style>\n",
       "<table border=\"1\" class=\"dataframe\">\n",
       "  <thead>\n",
       "    <tr style=\"text-align: right;\">\n",
       "      <th></th>\n",
       "      <th>Car Name</th>\n",
       "      <th>Price</th>\n",
       "    </tr>\n",
       "  </thead>\n",
       "  <tbody>\n",
       "    <tr>\n",
       "      <th>0</th>\n",
       "      <td>Aston Martin Valour</td>\n",
       "      <td>Price: $1.5 Million</td>\n",
       "    </tr>\n",
       "    <tr>\n",
       "      <th>1</th>\n",
       "      <td>McLaren Elva</td>\n",
       "      <td>Price: $1.7 Million</td>\n",
       "    </tr>\n",
       "    <tr>\n",
       "      <th>2</th>\n",
       "      <td>Czinger 21C</td>\n",
       "      <td>Price: $1.7 Million</td>\n",
       "    </tr>\n",
       "    <tr>\n",
       "      <th>3</th>\n",
       "      <td>Ferrari Monza</td>\n",
       "      <td>Price: $1.7 Million</td>\n",
       "    </tr>\n",
       "    <tr>\n",
       "      <th>4</th>\n",
       "      <td>Gordon Murray T.33</td>\n",
       "      <td>Price: $1.7 Million</td>\n",
       "    </tr>\n",
       "    <tr>\n",
       "      <th>5</th>\n",
       "      <td>Koenigsegg Gemera</td>\n",
       "      <td>Price: $1.7 Million</td>\n",
       "    </tr>\n",
       "    <tr>\n",
       "      <th>6</th>\n",
       "      <td>Zenvo TSR-S</td>\n",
       "      <td>Price: $1.7 Million</td>\n",
       "    </tr>\n",
       "    <tr>\n",
       "      <th>7</th>\n",
       "      <td>Hennessey Venom F5</td>\n",
       "      <td>Price: $1.8 Million</td>\n",
       "    </tr>\n",
       "    <tr>\n",
       "      <th>8</th>\n",
       "      <td>Bentley Bacalar</td>\n",
       "      <td>Price: $1.9 Million</td>\n",
       "    </tr>\n",
       "    <tr>\n",
       "      <th>9</th>\n",
       "      <td>Hispano Suiza Carmen Boulogne</td>\n",
       "      <td>Price: $1.9 Million</td>\n",
       "    </tr>\n",
       "    <tr>\n",
       "      <th>10</th>\n",
       "      <td>Bentley Mulliner Batur</td>\n",
       "      <td>Price: $2.0 Million</td>\n",
       "    </tr>\n",
       "    <tr>\n",
       "      <th>11</th>\n",
       "      <td>Deus Vayanne</td>\n",
       "      <td>Price: $2.0 Million</td>\n",
       "    </tr>\n",
       "    <tr>\n",
       "      <th>12</th>\n",
       "      <td>SSC Tuatara</td>\n",
       "      <td>Price: $2.0 Million</td>\n",
       "    </tr>\n",
       "    <tr>\n",
       "      <th>13</th>\n",
       "      <td>Lotus Evija</td>\n",
       "      <td>Price: $2.1 Million</td>\n",
       "    </tr>\n",
       "    <tr>\n",
       "      <th>14</th>\n",
       "      <td>Aston Martin Vulcan</td>\n",
       "      <td>Price: $2.3 Million</td>\n",
       "    </tr>\n",
       "    <tr>\n",
       "      <th>15</th>\n",
       "      <td>Delage D12</td>\n",
       "      <td>Price: $2.3 Million</td>\n",
       "    </tr>\n",
       "    <tr>\n",
       "      <th>16</th>\n",
       "      <td>Ferrari Daytona SP3</td>\n",
       "      <td>Price: $2.3 Million</td>\n",
       "    </tr>\n",
       "    <tr>\n",
       "      <th>17</th>\n",
       "      <td>McLaren Speedtail</td>\n",
       "      <td>Price: $2.3 Million</td>\n",
       "    </tr>\n",
       "    <tr>\n",
       "      <th>18</th>\n",
       "      <td>Rimac Nevera</td>\n",
       "      <td>Price: $2.4 Million</td>\n",
       "    </tr>\n",
       "    <tr>\n",
       "      <th>19</th>\n",
       "      <td>Pagani Utopia</td>\n",
       "      <td>Price: $2.5 Million</td>\n",
       "    </tr>\n",
       "    <tr>\n",
       "      <th>20</th>\n",
       "      <td>Pininfarina Battista</td>\n",
       "      <td>Price: $2.5 Million</td>\n",
       "    </tr>\n",
       "    <tr>\n",
       "      <th>21</th>\n",
       "      <td>Gordon Murray T.50</td>\n",
       "      <td>Price: $2.6 Million</td>\n",
       "    </tr>\n",
       "    <tr>\n",
       "      <th>22</th>\n",
       "      <td>Lamborghini Countach</td>\n",
       "      <td>Price: $2.6 Million</td>\n",
       "    </tr>\n",
       "    <tr>\n",
       "      <th>23</th>\n",
       "      <td>Mercedes-AMG Project One</td>\n",
       "      <td>Price: $2.7 Million</td>\n",
       "    </tr>\n",
       "    <tr>\n",
       "      <th>24</th>\n",
       "      <td>Zenvo Aurora</td>\n",
       "      <td>Price: $2.8 Million</td>\n",
       "    </tr>\n",
       "    <tr>\n",
       "      <th>25</th>\n",
       "      <td>Aston Martin Victor</td>\n",
       "      <td>Price: $3.0 Million</td>\n",
       "    </tr>\n",
       "    <tr>\n",
       "      <th>26</th>\n",
       "      <td>Hennessey Venom F5 Roadster</td>\n",
       "      <td>$3.0 Million</td>\n",
       "    </tr>\n",
       "    <tr>\n",
       "      <th>27</th>\n",
       "      <td>Koenigsegg Jesko</td>\n",
       "      <td>Price: $3.0 Million</td>\n",
       "    </tr>\n",
       "    <tr>\n",
       "      <th>28</th>\n",
       "      <td>Aston Martin Valkyrie</td>\n",
       "      <td>Price: $3.2 Million</td>\n",
       "    </tr>\n",
       "    <tr>\n",
       "      <th>29</th>\n",
       "      <td>W Motors Lykan Hypersport</td>\n",
       "      <td>Price: $3.4 Million</td>\n",
       "    </tr>\n",
       "    <tr>\n",
       "      <th>30</th>\n",
       "      <td>McLaren Solus</td>\n",
       "      <td>$3.5 Million</td>\n",
       "    </tr>\n",
       "    <tr>\n",
       "      <th>31</th>\n",
       "      <td>Lamborghini Sian</td>\n",
       "      <td>Price: $3.6 million</td>\n",
       "    </tr>\n",
       "    <tr>\n",
       "      <th>32</th>\n",
       "      <td>Koenigsegg CC850</td>\n",
       "      <td>Price: $3.7 Million</td>\n",
       "    </tr>\n",
       "    <tr>\n",
       "      <th>33</th>\n",
       "      <td>Bugatti Chiron Super Sport 300+</td>\n",
       "      <td>Price: $3.9 Million</td>\n",
       "    </tr>\n",
       "    <tr>\n",
       "      <th>34</th>\n",
       "      <td>Lamborghini Veneno</td>\n",
       "      <td>Price: $4.5 Million</td>\n",
       "    </tr>\n",
       "    <tr>\n",
       "      <th>35</th>\n",
       "      <td>Bugatti Bolide</td>\n",
       "      <td>Price: $4.7 Million</td>\n",
       "    </tr>\n",
       "    <tr>\n",
       "      <th>36</th>\n",
       "      <td>Pininfarina B95 Speedster</td>\n",
       "      <td>Price: $4.8 Million</td>\n",
       "    </tr>\n",
       "    <tr>\n",
       "      <th>37</th>\n",
       "      <td>Bugatti Mistral</td>\n",
       "      <td>Price: $5.0 Million</td>\n",
       "    </tr>\n",
       "    <tr>\n",
       "      <th>38</th>\n",
       "      <td>Pagani Huayra Imola</td>\n",
       "      <td>Price: $5.4 Million</td>\n",
       "    </tr>\n",
       "    <tr>\n",
       "      <th>39</th>\n",
       "      <td>Bugatti Divo</td>\n",
       "      <td>Price: $5.8 Million</td>\n",
       "    </tr>\n",
       "    <tr>\n",
       "      <th>40</th>\n",
       "      <td>SP Automotive Chaos</td>\n",
       "      <td>Price: $6.4 Million</td>\n",
       "    </tr>\n",
       "    <tr>\n",
       "      <th>41</th>\n",
       "      <td>Pagani Codalunga</td>\n",
       "      <td>Price: $7.4 Million</td>\n",
       "    </tr>\n",
       "    <tr>\n",
       "      <th>42</th>\n",
       "      <td>777 Hypercar</td>\n",
       "      <td>Price: $7.5 Million</td>\n",
       "    </tr>\n",
       "    <tr>\n",
       "      <th>43</th>\n",
       "      <td>Mercedes-Maybach Exelero</td>\n",
       "      <td>Price: $8.0 Million</td>\n",
       "    </tr>\n",
       "    <tr>\n",
       "      <th>44</th>\n",
       "      <td>Bugatti Centodieci</td>\n",
       "      <td>Price: $9.0 Million</td>\n",
       "    </tr>\n",
       "    <tr>\n",
       "      <th>45</th>\n",
       "      <td>Bugatti Chiron Profilée</td>\n",
       "      <td>Price: $10.8 Million</td>\n",
       "    </tr>\n",
       "    <tr>\n",
       "      <th>46</th>\n",
       "      <td>Rolls-Royce Sweptail</td>\n",
       "      <td>Price: $12.8 Million</td>\n",
       "    </tr>\n",
       "    <tr>\n",
       "      <th>47</th>\n",
       "      <td>Bugatti La Voiture Noire</td>\n",
       "      <td>Price: $13.4 Million</td>\n",
       "    </tr>\n",
       "    <tr>\n",
       "      <th>48</th>\n",
       "      <td>Rolls-Royce Boat Tail*</td>\n",
       "      <td>Price: $28.0 Million (est.)</td>\n",
       "    </tr>\n",
       "    <tr>\n",
       "      <th>49</th>\n",
       "      <td>Rolls-Royce La Rose Noire Droptail</td>\n",
       "      <td>Price: $30 Million (est.)</td>\n",
       "    </tr>\n",
       "  </tbody>\n",
       "</table>\n",
       "</div>"
      ],
      "text/plain": [
       "                              Car Name                        Price\n",
       "0                  Aston Martin Valour          Price: $1.5 Million\n",
       "1                         McLaren Elva          Price: $1.7 Million\n",
       "2                          Czinger 21C          Price: $1.7 Million\n",
       "3                        Ferrari Monza          Price: $1.7 Million\n",
       "4                   Gordon Murray T.33          Price: $1.7 Million\n",
       "5                    Koenigsegg Gemera          Price: $1.7 Million\n",
       "6                          Zenvo TSR-S          Price: $1.7 Million\n",
       "7                   Hennessey Venom F5          Price: $1.8 Million\n",
       "8                      Bentley Bacalar          Price: $1.9 Million\n",
       "9        Hispano Suiza Carmen Boulogne          Price: $1.9 Million\n",
       "10              Bentley Mulliner Batur          Price: $2.0 Million\n",
       "11                        Deus Vayanne          Price: $2.0 Million\n",
       "12                         SSC Tuatara          Price: $2.0 Million\n",
       "13                         Lotus Evija          Price: $2.1 Million\n",
       "14                 Aston Martin Vulcan          Price: $2.3 Million\n",
       "15                          Delage D12          Price: $2.3 Million\n",
       "16                 Ferrari Daytona SP3          Price: $2.3 Million\n",
       "17                   McLaren Speedtail          Price: $2.3 Million\n",
       "18                        Rimac Nevera          Price: $2.4 Million\n",
       "19                       Pagani Utopia          Price: $2.5 Million\n",
       "20                Pininfarina Battista          Price: $2.5 Million\n",
       "21                  Gordon Murray T.50          Price: $2.6 Million\n",
       "22                Lamborghini Countach          Price: $2.6 Million\n",
       "23            Mercedes-AMG Project One          Price: $2.7 Million\n",
       "24                        Zenvo Aurora          Price: $2.8 Million\n",
       "25                 Aston Martin Victor          Price: $3.0 Million\n",
       "26         Hennessey Venom F5 Roadster                 $3.0 Million\n",
       "27                    Koenigsegg Jesko          Price: $3.0 Million\n",
       "28               Aston Martin Valkyrie          Price: $3.2 Million\n",
       "29           W Motors Lykan Hypersport          Price: $3.4 Million\n",
       "30                       McLaren Solus                 $3.5 Million\n",
       "31                    Lamborghini Sian          Price: $3.6 million\n",
       "32                    Koenigsegg CC850          Price: $3.7 Million\n",
       "33     Bugatti Chiron Super Sport 300+          Price: $3.9 Million\n",
       "34                  Lamborghini Veneno          Price: $4.5 Million\n",
       "35                      Bugatti Bolide          Price: $4.7 Million\n",
       "36           Pininfarina B95 Speedster          Price: $4.8 Million\n",
       "37                     Bugatti Mistral          Price: $5.0 Million\n",
       "38                 Pagani Huayra Imola          Price: $5.4 Million\n",
       "39                        Bugatti Divo          Price: $5.8 Million\n",
       "40                 SP Automotive Chaos          Price: $6.4 Million\n",
       "41                    Pagani Codalunga          Price: $7.4 Million\n",
       "42                        777 Hypercar          Price: $7.5 Million\n",
       "43            Mercedes-Maybach Exelero          Price: $8.0 Million\n",
       "44                  Bugatti Centodieci          Price: $9.0 Million\n",
       "45             Bugatti Chiron Profilée         Price: $10.8 Million\n",
       "46                Rolls-Royce Sweptail         Price: $12.8 Million\n",
       "47            Bugatti La Voiture Noire         Price: $13.4 Million\n",
       "48              Rolls-Royce Boat Tail*  Price: $28.0 Million (est.)\n",
       "49  Rolls-Royce La Rose Noire Droptail    Price: $30 Million (est.)"
      ]
     },
     "execution_count": 132,
     "metadata": {},
     "output_type": "execute_result"
    }
   ],
   "source": [
    "df2.head(50)"
   ]
  },
  {
   "cell_type": "code",
   "execution_count": null,
   "id": "ae945203",
   "metadata": {},
   "outputs": [],
   "source": []
  },
  {
   "cell_type": "code",
   "execution_count": null,
   "id": "24847054",
   "metadata": {},
   "outputs": [],
   "source": []
  }
 ],
 "metadata": {
  "kernelspec": {
   "display_name": "Python 3 (ipykernel)",
   "language": "python",
   "name": "python3"
  },
  "language_info": {
   "codemirror_mode": {
    "name": "ipython",
    "version": 3
   },
   "file_extension": ".py",
   "mimetype": "text/x-python",
   "name": "python",
   "nbconvert_exporter": "python",
   "pygments_lexer": "ipython3",
   "version": "3.10.9"
  }
 },
 "nbformat": 4,
 "nbformat_minor": 5
}
